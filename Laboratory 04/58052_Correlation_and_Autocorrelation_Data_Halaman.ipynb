{
  "cells": [
    {
      "cell_type": "markdown",
      "metadata": {
        "id": "view-in-github",
        "colab_type": "text"
      },
      "source": [
        "<a href=\"https://colab.research.google.com/github/keithvtls/AIDA2-CpE---AIML/blob/main/Laboratory%2004/58052_Correlation_and_Autocorrelation_Data_Halaman.ipynb\" target=\"_parent\"><img src=\"https://colab.research.google.com/assets/colab-badge.svg\" alt=\"Open In Colab\"/></a>"
      ]
    },
    {
      "cell_type": "markdown",
      "source": [
        "# Laboratory 04: Correlation and Autocorrelation\n",
        "\n",
        "##$_{\\text{© Data Halaman: C. Canoza, I.J. Timbungco, N.K. Vitales, S.C. Zarraga | 2022 | Fudamentals of Machine Learning}}$\n",
        "\n",
        "\n",
        "\n",
        "**Note: The file used in this laboratory is the movie csv file and focused on Will Smith's movies all throughout the year.**"
      ],
      "metadata": {
        "id": "-1Y8HuNIlbfs"
      }
    },
    {
      "cell_type": "markdown",
      "metadata": {
        "id": "VRtdhZrePtbo"
      },
      "source": [
        "# Correlation and Autocorrelation\n",
        "> A Summary of lecture \"Time Series Analysis in Python\", via datacamp\n",
        "\n",
        "- toc: true \n",
        "- badges: true\n",
        "- comments: true\n",
        "- author: Chanseok Kang\n",
        "- categories: [Python, Datacamp, Time-Series Analysis]\n",
        "- image: images/dji_ufo.png"
      ]
    },
    {
      "cell_type": "code",
      "execution_count": 2,
      "metadata": {
        "id": "ybFLurEWPtbq"
      },
      "outputs": [],
      "source": [
        "import pandas as pd\n",
        "import numpy as np\n",
        "import matplotlib.pyplot as plt\n",
        "import seaborn as sns\n",
        "\n",
        "plt.rcParams['figure.figsize'] = (10, 5)"
      ]
    },
    {
      "cell_type": "markdown",
      "metadata": {
        "id": "G7pK6DWHPtbs"
      },
      "source": [
        "## Introduction to Course\n"
      ]
    },
    {
      "cell_type": "markdown",
      "metadata": {
        "id": "ehYQFNoTPtbs"
      },
      "source": [
        "### A \"Thin\" Application of Time Series\n",
        "[Google Trends](https://trends.google.com/trends/) allows users to see how often a term is searched for. We downloaded a file from Google Trends containing the frequency over time for the search word \"diet\". A first step when analyzing a time series is to visualize the data with a plot. You should be able to clearly see a gradual decrease in searches for \"diet\" throughout the calendar year, hitting a low around the December holidays, followed by a spike in searches around the new year as people make New Year's resolutions to lose weight.\n",
        "\n",
        "Like many time series datasets you will be working with, the index of dates are strings and should be converted to a datetime index before plotting."
      ]
    },
    {
      "cell_type": "markdown",
      "metadata": {
        "id": "OHVxSb69Ptbt"
      },
      "source": [
        "- Preprocess"
      ]
    },
    {
      "cell_type": "code",
      "execution_count": 3,
      "metadata": {
        "id": "tptmA1vAPtbt",
        "outputId": "3595f951-07e3-410f-a77a-79598ce34f9e",
        "colab": {
          "base_uri": "https://localhost:8080/",
          "height": 645
        }
      },
      "outputs": [
        {
          "output_type": "execute_result",
          "data": {
            "text/plain": [
              "      title_year        gross\n",
              "19        2012.0  179020854.0\n",
              "71        1999.0  113745408.0\n",
              "73        2016.0  161087183.0\n",
              "116       2008.0  227946274.0\n",
              "117       2007.0  256386216.0\n",
              "152       2002.0  190418803.0\n",
              "190       2003.0  138396624.0\n",
              "197       2013.0   60522097.0\n",
              "272       2001.0   58183966.0\n",
              "274       2004.0  144795350.0\n",
              "352       1997.0  250147615.0\n",
              "409       1998.0  111544445.0\n",
              "522       1996.0  306124059.0\n",
              "673       2015.0   53846915.0\n",
              "842       2005.0  177575142.0\n",
              "851       2006.0  162586036.0\n",
              "893       2008.0   69951824.0\n",
              "1468      2015.0   34531832.0\n",
              "2052      1995.0   65807024.0"
            ],
            "text/html": [
              "\n",
              "  <div id=\"df-57d0bf21-831f-4e85-badf-053bb9783ec1\">\n",
              "    <div class=\"colab-df-container\">\n",
              "      <div>\n",
              "<style scoped>\n",
              "    .dataframe tbody tr th:only-of-type {\n",
              "        vertical-align: middle;\n",
              "    }\n",
              "\n",
              "    .dataframe tbody tr th {\n",
              "        vertical-align: top;\n",
              "    }\n",
              "\n",
              "    .dataframe thead th {\n",
              "        text-align: right;\n",
              "    }\n",
              "</style>\n",
              "<table border=\"1\" class=\"dataframe\">\n",
              "  <thead>\n",
              "    <tr style=\"text-align: right;\">\n",
              "      <th></th>\n",
              "      <th>title_year</th>\n",
              "      <th>gross</th>\n",
              "    </tr>\n",
              "  </thead>\n",
              "  <tbody>\n",
              "    <tr>\n",
              "      <th>19</th>\n",
              "      <td>2012.0</td>\n",
              "      <td>179020854.0</td>\n",
              "    </tr>\n",
              "    <tr>\n",
              "      <th>71</th>\n",
              "      <td>1999.0</td>\n",
              "      <td>113745408.0</td>\n",
              "    </tr>\n",
              "    <tr>\n",
              "      <th>73</th>\n",
              "      <td>2016.0</td>\n",
              "      <td>161087183.0</td>\n",
              "    </tr>\n",
              "    <tr>\n",
              "      <th>116</th>\n",
              "      <td>2008.0</td>\n",
              "      <td>227946274.0</td>\n",
              "    </tr>\n",
              "    <tr>\n",
              "      <th>117</th>\n",
              "      <td>2007.0</td>\n",
              "      <td>256386216.0</td>\n",
              "    </tr>\n",
              "    <tr>\n",
              "      <th>152</th>\n",
              "      <td>2002.0</td>\n",
              "      <td>190418803.0</td>\n",
              "    </tr>\n",
              "    <tr>\n",
              "      <th>190</th>\n",
              "      <td>2003.0</td>\n",
              "      <td>138396624.0</td>\n",
              "    </tr>\n",
              "    <tr>\n",
              "      <th>197</th>\n",
              "      <td>2013.0</td>\n",
              "      <td>60522097.0</td>\n",
              "    </tr>\n",
              "    <tr>\n",
              "      <th>272</th>\n",
              "      <td>2001.0</td>\n",
              "      <td>58183966.0</td>\n",
              "    </tr>\n",
              "    <tr>\n",
              "      <th>274</th>\n",
              "      <td>2004.0</td>\n",
              "      <td>144795350.0</td>\n",
              "    </tr>\n",
              "    <tr>\n",
              "      <th>352</th>\n",
              "      <td>1997.0</td>\n",
              "      <td>250147615.0</td>\n",
              "    </tr>\n",
              "    <tr>\n",
              "      <th>409</th>\n",
              "      <td>1998.0</td>\n",
              "      <td>111544445.0</td>\n",
              "    </tr>\n",
              "    <tr>\n",
              "      <th>522</th>\n",
              "      <td>1996.0</td>\n",
              "      <td>306124059.0</td>\n",
              "    </tr>\n",
              "    <tr>\n",
              "      <th>673</th>\n",
              "      <td>2015.0</td>\n",
              "      <td>53846915.0</td>\n",
              "    </tr>\n",
              "    <tr>\n",
              "      <th>842</th>\n",
              "      <td>2005.0</td>\n",
              "      <td>177575142.0</td>\n",
              "    </tr>\n",
              "    <tr>\n",
              "      <th>851</th>\n",
              "      <td>2006.0</td>\n",
              "      <td>162586036.0</td>\n",
              "    </tr>\n",
              "    <tr>\n",
              "      <th>893</th>\n",
              "      <td>2008.0</td>\n",
              "      <td>69951824.0</td>\n",
              "    </tr>\n",
              "    <tr>\n",
              "      <th>1468</th>\n",
              "      <td>2015.0</td>\n",
              "      <td>34531832.0</td>\n",
              "    </tr>\n",
              "    <tr>\n",
              "      <th>2052</th>\n",
              "      <td>1995.0</td>\n",
              "      <td>65807024.0</td>\n",
              "    </tr>\n",
              "  </tbody>\n",
              "</table>\n",
              "</div>\n",
              "      <button class=\"colab-df-convert\" onclick=\"convertToInteractive('df-57d0bf21-831f-4e85-badf-053bb9783ec1')\"\n",
              "              title=\"Convert this dataframe to an interactive table.\"\n",
              "              style=\"display:none;\">\n",
              "        \n",
              "  <svg xmlns=\"http://www.w3.org/2000/svg\" height=\"24px\"viewBox=\"0 0 24 24\"\n",
              "       width=\"24px\">\n",
              "    <path d=\"M0 0h24v24H0V0z\" fill=\"none\"/>\n",
              "    <path d=\"M18.56 5.44l.94 2.06.94-2.06 2.06-.94-2.06-.94-.94-2.06-.94 2.06-2.06.94zm-11 1L8.5 8.5l.94-2.06 2.06-.94-2.06-.94L8.5 2.5l-.94 2.06-2.06.94zm10 10l.94 2.06.94-2.06 2.06-.94-2.06-.94-.94-2.06-.94 2.06-2.06.94z\"/><path d=\"M17.41 7.96l-1.37-1.37c-.4-.4-.92-.59-1.43-.59-.52 0-1.04.2-1.43.59L10.3 9.45l-7.72 7.72c-.78.78-.78 2.05 0 2.83L4 21.41c.39.39.9.59 1.41.59.51 0 1.02-.2 1.41-.59l7.78-7.78 2.81-2.81c.8-.78.8-2.07 0-2.86zM5.41 20L4 18.59l7.72-7.72 1.47 1.35L5.41 20z\"/>\n",
              "  </svg>\n",
              "      </button>\n",
              "      \n",
              "  <style>\n",
              "    .colab-df-container {\n",
              "      display:flex;\n",
              "      flex-wrap:wrap;\n",
              "      gap: 12px;\n",
              "    }\n",
              "\n",
              "    .colab-df-convert {\n",
              "      background-color: #E8F0FE;\n",
              "      border: none;\n",
              "      border-radius: 50%;\n",
              "      cursor: pointer;\n",
              "      display: none;\n",
              "      fill: #1967D2;\n",
              "      height: 32px;\n",
              "      padding: 0 0 0 0;\n",
              "      width: 32px;\n",
              "    }\n",
              "\n",
              "    .colab-df-convert:hover {\n",
              "      background-color: #E2EBFA;\n",
              "      box-shadow: 0px 1px 2px rgba(60, 64, 67, 0.3), 0px 1px 3px 1px rgba(60, 64, 67, 0.15);\n",
              "      fill: #174EA6;\n",
              "    }\n",
              "\n",
              "    [theme=dark] .colab-df-convert {\n",
              "      background-color: #3B4455;\n",
              "      fill: #D2E3FC;\n",
              "    }\n",
              "\n",
              "    [theme=dark] .colab-df-convert:hover {\n",
              "      background-color: #434B5C;\n",
              "      box-shadow: 0px 1px 3px 1px rgba(0, 0, 0, 0.15);\n",
              "      filter: drop-shadow(0px 1px 2px rgba(0, 0, 0, 0.3));\n",
              "      fill: #FFFFFF;\n",
              "    }\n",
              "  </style>\n",
              "\n",
              "      <script>\n",
              "        const buttonEl =\n",
              "          document.querySelector('#df-57d0bf21-831f-4e85-badf-053bb9783ec1 button.colab-df-convert');\n",
              "        buttonEl.style.display =\n",
              "          google.colab.kernel.accessAllowed ? 'block' : 'none';\n",
              "\n",
              "        async function convertToInteractive(key) {\n",
              "          const element = document.querySelector('#df-57d0bf21-831f-4e85-badf-053bb9783ec1');\n",
              "          const dataTable =\n",
              "            await google.colab.kernel.invokeFunction('convertToInteractive',\n",
              "                                                     [key], {});\n",
              "          if (!dataTable) return;\n",
              "\n",
              "          const docLinkHtml = 'Like what you see? Visit the ' +\n",
              "            '<a target=\"_blank\" href=https://colab.research.google.com/notebooks/data_table.ipynb>data table notebook</a>'\n",
              "            + ' to learn more about interactive tables.';\n",
              "          element.innerHTML = '';\n",
              "          dataTable['output_type'] = 'display_data';\n",
              "          await google.colab.output.renderOutput(dataTable, element);\n",
              "          const docLink = document.createElement('div');\n",
              "          docLink.innerHTML = docLinkHtml;\n",
              "          element.appendChild(docLink);\n",
              "        }\n",
              "      </script>\n",
              "    </div>\n",
              "  </div>\n",
              "  "
            ]
          },
          "metadata": {},
          "execution_count": 3
        }
      ],
      "source": [
        "dataset = 'https://github.com/keithvtls/AIDA2-CpE---AIML/blob/main/Correlation/movie_metadata_cleaned.csv?raw=true'\n",
        "df_movie = pd.read_csv(dataset, index_col=0)\n",
        "movie_data = df_movie[df_movie[\"actor_1_name\"] == 'Will Smith']\n",
        "movie_data1 = pd.DataFrame(movie_data, columns=['title_year', 'gross'])\n",
        "movie_data1"
      ]
    },
    {
      "cell_type": "code",
      "execution_count": null,
      "metadata": {
        "id": "2WKW-asNPtbv",
        "outputId": "7b1ce905-d3af-4af9-e363-1aa0f01a161c",
        "colab": {
          "base_uri": "https://localhost:8080/",
          "height": 1000
        }
      },
      "outputs": [
        {
          "output_type": "stream",
          "name": "stdout",
          "text": [
            "                  gross\n",
            "title_year             \n",
            "2012-01-01  179020854.0\n",
            "1999-01-01  113745408.0\n",
            "2016-01-01  161087183.0\n",
            "2008-01-01  227946274.0\n",
            "2007-01-01  256386216.0\n",
            "2002-01-01  190418803.0\n",
            "2003-01-01  138396624.0\n",
            "2013-01-01   60522097.0\n",
            "2001-01-01   58183966.0\n",
            "2004-01-01  144795350.0\n",
            "1997-01-01  250147615.0\n",
            "1998-01-01  111544445.0\n",
            "1996-01-01  306124059.0\n",
            "2015-01-01   53846915.0\n",
            "2005-01-01  177575142.0\n",
            "2006-01-01  162586036.0\n",
            "2008-01-01   69951824.0\n",
            "2015-01-01   34531832.0\n",
            "1995-01-01   65807024.0\n"
          ]
        },
        {
          "output_type": "display_data",
          "data": {
            "text/plain": [
              "<Figure size 720x360 with 1 Axes>"
            ],
            "image/png": "[encoded data removed]"
          },
          "metadata": {
            "needs_background": "light"
          }
        },
        {
          "output_type": "display_data",
          "data": {
            "text/plain": [
              "<Figure size 720x360 with 1 Axes>"
            ],
            "image/png": "[encoded data removed]"
          },
          "metadata": {
            "needs_background": "light"
          }
        }
      ],
      "source": [
        "#movie_data = pd.DataFrame(columns=['title_year'])\n",
        "#movie_data = movie_data.astype({'title_year':np.datetime64})\n",
        "#movie_data['title_year'] = movie_data.title_year.astype(np.datetime64)\n",
        "#movie_data['title_year'] = movie_data.title_year.dt.year\n",
        "#movie_data.set_index('title_year')\n",
        "\n",
        "# Convert the date index to datetime\n",
        "movie_data1['title_year'] = pd.to_datetime(movie_data1['title_year'], format='%Y')\n",
        "will_smith = movie_data1.set_index('title_year')\n",
        "print(will_smith)\n",
        "\n",
        "# Plot the entire time series Will Smith and show gridlines\n",
        "will_smith.plot(grid=True);\n",
        "plt.title('Will Smith Movies All Through The Years');\n",
        "\n",
        "will_smith_2000 = will_smith[will_smith.index.year > 2000]\n",
        "\n",
        "# Plot Will Smith's > 2000 achievements\n",
        "will_smith_2000.plot(grid=True);\n",
        "plt.title('2012 trend of \"Will Smith\" keywords');"
      ]
    },
    {
      "cell_type": "markdown",
      "metadata": {
        "id": "5e1fEmrGPtbv"
      },
      "source": [
        "### Merging Time Series With Different Dates\n",
        "Stock and bond markets in the U.S. are closed on different days. For example, although the bond market is closed on Columbus Day (around Oct 12) and Veterans Day (around Nov 11), the stock market is open on those days. One way to see the dates that the stock market is open and the bond market is closed is to convert both indexes of dates into sets and take the difference in sets.\n",
        "\n",
        "The pandas ```.join()``` method is a convenient tool to merge the stock and bond DataFrames on dates when both markets are open.\n",
        "Stock prices and 10-year US Government bond yields is downloaded from [FRED](https://fred.stlouisfed.org/)\n"
      ]
    },
    {
      "cell_type": "markdown",
      "metadata": {
        "id": "xNMSEmgWPtbv"
      },
      "source": [
        "- Preprocess"
      ]
    },
    {
      "cell_type": "code",
      "execution_count": null,
      "metadata": {
        "id": "IUT9ZqGJPtbw",
        "colab": {
          "base_uri": "https://localhost:8080/"
        },
        "outputId": "0e1ece67-f66b-42bf-b87e-eaa890ecbbfb"
      },
      "outputs": [
        {
          "output_type": "stream",
          "name": "stdout",
          "text": [
            "      title_year\n",
            "19        2012.0\n",
            "71        1999.0\n",
            "73        2016.0\n",
            "116       2008.0\n",
            "117       2007.0\n",
            "152       2002.0\n",
            "190       2003.0\n",
            "197       2013.0\n",
            "272       2001.0\n",
            "274       2004.0\n",
            "352       1997.0\n",
            "409       1998.0\n",
            "522       1996.0\n",
            "673       2015.0\n",
            "842       2005.0\n",
            "851       2006.0\n",
            "893       2008.0\n",
            "1468      2015.0\n",
            "2052      1995.0\n",
            "      title_year\n",
            "1         2007.0\n",
            "13        2006.0\n",
            "14        2013.0\n",
            "18        2011.0\n",
            "33        2010.0\n",
            "106       2016.0\n",
            "118       2005.0\n",
            "134       2012.0\n",
            "181       2011.0\n",
            "205       2003.0\n",
            "289       2009.0\n",
            "305       2010.0\n",
            "343       2014.0\n",
            "807       2015.0\n",
            "905       2015.0\n",
            "945       2014.0\n",
            "1096      2001.0\n",
            "1240      2004.0\n",
            "1354      1999.0\n",
            "1420      1984.0\n",
            "1436      1997.0\n",
            "1449      2001.0\n",
            "1519      1999.0\n",
            "1629      2001.0\n",
            "1642      2005.0\n",
            "1753      2003.0\n",
            "1898      2004.0\n",
            "1946      1994.0\n",
            "2117      2004.0\n",
            "2177      1990.0\n",
            "2389      1998.0\n",
            "2449      1994.0\n",
            "3058      1993.0\n",
            "3170      2010.0\n",
            "3582      1986.0\n",
            "3709      1991.0\n",
            "3817      2016.0\n",
            "4104      2014.0\n",
            "4128      2010.0\n",
            "4173      1999.0\n",
            "4352      1984.0\n"
          ]
        }
      ],
      "source": [
        "#This dataset will focus on Will Smith and Johnny Depp's Years in Movies\n",
        "movie_data_will = df_movie[df_movie[\"actor_1_name\"] == 'Will Smith']\n",
        "movie_data1_will = pd.DataFrame(movie_data_will, columns=['title_year'])\n",
        "movie_data_johnny = df_movie[df_movie[\"actor_1_name\"] == 'Johnny Depp']\n",
        "movie_data1_johnny = pd.DataFrame(movie_data_johnny, columns=['title_year'])\n",
        "print(movie_data1_will)\n",
        "print(movie_data1_johnny)"
      ]
    },
    {
      "cell_type": "code",
      "source": [
        "# Convert the date index to datetime\n",
        "movie_data1_will['title_year'] = pd.to_datetime(movie_data1_will['title_year'], format='%Y')\n",
        "will_smith_index = movie_data1_will.set_index('title_year')\n",
        "\n",
        "movie_data1_johnny['title_year'] = pd.to_datetime(movie_data1_johnny['title_year'], format='%Y')\n",
        "johnny_depp_index = movie_data1_johnny.set_index('title_year')\n",
        "\n",
        "print(will_smith_index)\n",
        "print(johnny_depp_index)"
      ],
      "metadata": {
        "id": "noU_vubGjBQI",
        "colab": {
          "base_uri": "https://localhost:8080/"
        },
        "outputId": "bf82add6-1018-46d7-923e-091cbee508db"
      },
      "execution_count": null,
      "outputs": [
        {
          "output_type": "stream",
          "name": "stdout",
          "text": [
            "Empty DataFrame\n",
            "Columns: []\n",
            "Index: [2012-01-01 00:00:00, 1999-01-01 00:00:00, 2016-01-01 00:00:00, 2008-01-01 00:00:00, 2007-01-01 00:00:00, 2002-01-01 00:00:00, 2003-01-01 00:00:00, 2013-01-01 00:00:00, 2001-01-01 00:00:00, 2004-01-01 00:00:00, 1997-01-01 00:00:00, 1998-01-01 00:00:00, 1996-01-01 00:00:00, 2015-01-01 00:00:00, 2005-01-01 00:00:00, 2006-01-01 00:00:00, 2008-01-01 00:00:00, 2015-01-01 00:00:00, 1995-01-01 00:00:00]\n",
            "Empty DataFrame\n",
            "Columns: []\n",
            "Index: [2007-01-01 00:00:00, 2006-01-01 00:00:00, 2013-01-01 00:00:00, 2011-01-01 00:00:00, 2010-01-01 00:00:00, 2016-01-01 00:00:00, 2005-01-01 00:00:00, 2012-01-01 00:00:00, 2011-01-01 00:00:00, 2003-01-01 00:00:00, 2009-01-01 00:00:00, 2010-01-01 00:00:00, 2014-01-01 00:00:00, 2015-01-01 00:00:00, 2015-01-01 00:00:00, 2014-01-01 00:00:00, 2001-01-01 00:00:00, 2004-01-01 00:00:00, 1999-01-01 00:00:00, 1984-01-01 00:00:00, 1997-01-01 00:00:00, 2001-01-01 00:00:00, 1999-01-01 00:00:00, 2001-01-01 00:00:00, 2005-01-01 00:00:00, 2003-01-01 00:00:00, 2004-01-01 00:00:00, 1994-01-01 00:00:00, 2004-01-01 00:00:00, 1990-01-01 00:00:00, 1998-01-01 00:00:00, 1994-01-01 00:00:00, 1993-01-01 00:00:00, 2010-01-01 00:00:00, 1986-01-01 00:00:00, 1991-01-01 00:00:00, 2016-01-01 00:00:00, 2014-01-01 00:00:00, 2010-01-01 00:00:00, 1999-01-01 00:00:00, 1984-01-01 00:00:00]\n"
          ]
        }
      ]
    },
    {
      "cell_type": "code",
      "execution_count": null,
      "metadata": {
        "id": "EzSojRJFPtby",
        "outputId": "aa16d3be-e6f7-4151-c318-e2511c93bb49",
        "colab": {
          "base_uri": "https://localhost:8080/"
        }
      },
      "outputs": [
        {
          "output_type": "stream",
          "name": "stdout",
          "text": [
            "{Timestamp('1995-01-01 00:00:00'), Timestamp('1996-01-01 00:00:00'), Timestamp('2002-01-01 00:00:00'), Timestamp('2008-01-01 00:00:00')}\n"
          ]
        }
      ],
      "source": [
        "# Convert the Will Smith and Johnny Depp index into sets\n",
        "set_will_dates = set(will_smith_index.index)\n",
        "set_johnny_dates = set(johnny_depp_index.index)\n",
        "\n",
        "# Take the difference between the sets and print\n",
        "print(set_will_dates - set_johnny_dates)\n",
        "\n",
        "# Merge Will Smith and Johnny Depp DataFrame using join()\n",
        "will_and_johnny = will_smith_index.join(johnny_depp_index, how='inner')"
      ]
    },
    {
      "cell_type": "markdown",
      "metadata": {
        "id": "MYQ3FXdXPtby"
      },
      "source": [
        "## Correlation of Two Time Series\n"
      ]
    },
    {
      "cell_type": "markdown",
      "metadata": {
        "id": "sJmcust0Ptbz"
      },
      "source": [
        "### Correlation of Stocks and Bonds\n",
        "Investors are often interested in the correlation between the returns of two different assets for asset allocation and hedging purposes. In this exercise, you'll try to answer the question of whether stocks are positively or negatively correlated with bonds. Scatter plots are also useful for visualizing the correlation between the two variables.\n",
        "\n",
        "Keep in mind that you should compute the correlations on the percentage changes rather than the levels."
      ]
    },
    {
      "cell_type": "code",
      "source": [
        "movie_will = df_movie[df_movie[\"actor_1_name\"] == 'Will Smith']\n",
        "movie1_will = pd.DataFrame(movie_will, columns=['title_year', 'gross', 'budget'])\n",
        "movie1_will['title_year'] = pd.to_datetime(movie1_will['title_year'], format='%Y')\n",
        "will_smith_index1 = movie1_will.set_index('title_year')\n",
        "will_smith_index1\n"
      ],
      "metadata": {
        "colab": {
          "base_uri": "https://localhost:8080/",
          "height": 677
        },
        "id": "QNFTOignnroZ",
        "outputId": "436cc5c0-6326-4d8a-a960-4a27aae80885"
      },
      "execution_count": null,
      "outputs": [
        {
          "output_type": "execute_result",
          "data": {
            "text/plain": [
              "                  gross       budget\n",
              "title_year                          \n",
              "2012-01-01  179020854.0  225000000.0\n",
              "1999-01-01  113745408.0  170000000.0\n",
              "2016-01-01  161087183.0  175000000.0\n",
              "2008-01-01  227946274.0  150000000.0\n",
              "2007-01-01  256386216.0  150000000.0\n",
              "2002-01-01  190418803.0  140000000.0\n",
              "2003-01-01  138396624.0  130000000.0\n",
              "2013-01-01   60522097.0  130000000.0\n",
              "2001-01-01   58183966.0  107000000.0\n",
              "2004-01-01  144795350.0  120000000.0\n",
              "1997-01-01  250147615.0   90000000.0\n",
              "1998-01-01  111544445.0   90000000.0\n",
              "1996-01-01  306124059.0   75000000.0\n",
              "2015-01-01   53846915.0   50100000.0\n",
              "2005-01-01  177575142.0   70000000.0\n",
              "2006-01-01  162586036.0   55000000.0\n",
              "2008-01-01   69951824.0   55000000.0\n",
              "2015-01-01   34531832.0   35000000.0\n",
              "1995-01-01   65807024.0   19000000.0"
            ],
            "text/html": [
              "\n",
              "  <div id=\"df-b8f62bbe-ebb3-4982-aff8-c8687e39bfa0\">\n",
              "    <div class=\"colab-df-container\">\n",
              "      <div>\n",
              "<style scoped>\n",
              "    .dataframe tbody tr th:only-of-type {\n",
              "        vertical-align: middle;\n",
              "    }\n",
              "\n",
              "    .dataframe tbody tr th {\n",
              "        vertical-align: top;\n",
              "    }\n",
              "\n",
              "    .dataframe thead th {\n",
              "        text-align: right;\n",
              "    }\n",
              "</style>\n",
              "<table border=\"1\" class=\"dataframe\">\n",
              "  <thead>\n",
              "    <tr style=\"text-align: right;\">\n",
              "      <th></th>\n",
              "      <th>gross</th>\n",
              "      <th>budget</th>\n",
              "    </tr>\n",
              "    <tr>\n",
              "      <th>title_year</th>\n",
              "      <th></th>\n",
              "      <th></th>\n",
              "    </tr>\n",
              "  </thead>\n",
              "  <tbody>\n",
              "    <tr>\n",
              "      <th>2012-01-01</th>\n",
              "      <td>179020854.0</td>\n",
              "      <td>225000000.0</td>\n",
              "    </tr>\n",
              "    <tr>\n",
              "      <th>1999-01-01</th>\n",
              "      <td>113745408.0</td>\n",
              "      <td>170000000.0</td>\n",
              "    </tr>\n",
              "    <tr>\n",
              "      <th>2016-01-01</th>\n",
              "      <td>161087183.0</td>\n",
              "      <td>175000000.0</td>\n",
              "    </tr>\n",
              "    <tr>\n",
              "      <th>2008-01-01</th>\n",
              "      <td>227946274.0</td>\n",
              "      <td>150000000.0</td>\n",
              "    </tr>\n",
              "    <tr>\n",
              "      <th>2007-01-01</th>\n",
              "      <td>256386216.0</td>\n",
              "      <td>150000000.0</td>\n",
              "    </tr>\n",
              "    <tr>\n",
              "      <th>2002-01-01</th>\n",
              "      <td>190418803.0</td>\n",
              "      <td>140000000.0</td>\n",
              "    </tr>\n",
              "    <tr>\n",
              "      <th>2003-01-01</th>\n",
              "      <td>138396624.0</td>\n",
              "      <td>130000000.0</td>\n",
              "    </tr>\n",
              "    <tr>\n",
              "      <th>2013-01-01</th>\n",
              "      <td>60522097.0</td>\n",
              "      <td>130000000.0</td>\n",
              "    </tr>\n",
              "    <tr>\n",
              "      <th>2001-01-01</th>\n",
              "      <td>58183966.0</td>\n",
              "      <td>107000000.0</td>\n",
              "    </tr>\n",
              "    <tr>\n",
              "      <th>2004-01-01</th>\n",
              "      <td>144795350.0</td>\n",
              "      <td>120000000.0</td>\n",
              "    </tr>\n",
              "    <tr>\n",
              "      <th>1997-01-01</th>\n",
              "      <td>250147615.0</td>\n",
              "      <td>90000000.0</td>\n",
              "    </tr>\n",
              "    <tr>\n",
              "      <th>1998-01-01</th>\n",
              "      <td>111544445.0</td>\n",
              "      <td>90000000.0</td>\n",
              "    </tr>\n",
              "    <tr>\n",
              "      <th>1996-01-01</th>\n",
              "      <td>306124059.0</td>\n",
              "      <td>75000000.0</td>\n",
              "    </tr>\n",
              "    <tr>\n",
              "      <th>2015-01-01</th>\n",
              "      <td>53846915.0</td>\n",
              "      <td>50100000.0</td>\n",
              "    </tr>\n",
              "    <tr>\n",
              "      <th>2005-01-01</th>\n",
              "      <td>177575142.0</td>\n",
              "      <td>70000000.0</td>\n",
              "    </tr>\n",
              "    <tr>\n",
              "      <th>2006-01-01</th>\n",
              "      <td>162586036.0</td>\n",
              "      <td>55000000.0</td>\n",
              "    </tr>\n",
              "    <tr>\n",
              "      <th>2008-01-01</th>\n",
              "      <td>69951824.0</td>\n",
              "      <td>55000000.0</td>\n",
              "    </tr>\n",
              "    <tr>\n",
              "      <th>2015-01-01</th>\n",
              "      <td>34531832.0</td>\n",
              "      <td>35000000.0</td>\n",
              "    </tr>\n",
              "    <tr>\n",
              "      <th>1995-01-01</th>\n",
              "      <td>65807024.0</td>\n",
              "      <td>19000000.0</td>\n",
              "    </tr>\n",
              "  </tbody>\n",
              "</table>\n",
              "</div>\n",
              "      <button class=\"colab-df-convert\" onclick=\"convertToInteractive('df-b8f62bbe-ebb3-4982-aff8-c8687e39bfa0')\"\n",
              "              title=\"Convert this dataframe to an interactive table.\"\n",
              "              style=\"display:none;\">\n",
              "        \n",
              "  <svg xmlns=\"http://www.w3.org/2000/svg\" height=\"24px\"viewBox=\"0 0 24 24\"\n",
              "       width=\"24px\">\n",
              "    <path d=\"M0 0h24v24H0V0z\" fill=\"none\"/>\n",
              "    <path d=\"M18.56 5.44l.94 2.06.94-2.06 2.06-.94-2.06-.94-.94-2.06-.94 2.06-2.06.94zm-11 1L8.5 8.5l.94-2.06 2.06-.94-2.06-.94L8.5 2.5l-.94 2.06-2.06.94zm10 10l.94 2.06.94-2.06 2.06-.94-2.06-.94-.94-2.06-.94 2.06-2.06.94z\"/><path d=\"M17.41 7.96l-1.37-1.37c-.4-.4-.92-.59-1.43-.59-.52 0-1.04.2-1.43.59L10.3 9.45l-7.72 7.72c-.78.78-.78 2.05 0 2.83L4 21.41c.39.39.9.59 1.41.59.51 0 1.02-.2 1.41-.59l7.78-7.78 2.81-2.81c.8-.78.8-2.07 0-2.86zM5.41 20L4 18.59l7.72-7.72 1.47 1.35L5.41 20z\"/>\n",
              "  </svg>\n",
              "      </button>\n",
              "      \n",
              "  <style>\n",
              "    .colab-df-container {\n",
              "      display:flex;\n",
              "      flex-wrap:wrap;\n",
              "      gap: 12px;\n",
              "    }\n",
              "\n",
              "    .colab-df-convert {\n",
              "      background-color: #E8F0FE;\n",
              "      border: none;\n",
              "      border-radius: 50%;\n",
              "      cursor: pointer;\n",
              "      display: none;\n",
              "      fill: #1967D2;\n",
              "      height: 32px;\n",
              "      padding: 0 0 0 0;\n",
              "      width: 32px;\n",
              "    }\n",
              "\n",
              "    .colab-df-convert:hover {\n",
              "      background-color: #E2EBFA;\n",
              "      box-shadow: 0px 1px 2px rgba(60, 64, 67, 0.3), 0px 1px 3px 1px rgba(60, 64, 67, 0.15);\n",
              "      fill: #174EA6;\n",
              "    }\n",
              "\n",
              "    [theme=dark] .colab-df-convert {\n",
              "      background-color: #3B4455;\n",
              "      fill: #D2E3FC;\n",
              "    }\n",
              "\n",
              "    [theme=dark] .colab-df-convert:hover {\n",
              "      background-color: #434B5C;\n",
              "      box-shadow: 0px 1px 3px 1px rgba(0, 0, 0, 0.15);\n",
              "      filter: drop-shadow(0px 1px 2px rgba(0, 0, 0, 0.3));\n",
              "      fill: #FFFFFF;\n",
              "    }\n",
              "  </style>\n",
              "\n",
              "      <script>\n",
              "        const buttonEl =\n",
              "          document.querySelector('#df-b8f62bbe-ebb3-4982-aff8-c8687e39bfa0 button.colab-df-convert');\n",
              "        buttonEl.style.display =\n",
              "          google.colab.kernel.accessAllowed ? 'block' : 'none';\n",
              "\n",
              "        async function convertToInteractive(key) {\n",
              "          const element = document.querySelector('#df-b8f62bbe-ebb3-4982-aff8-c8687e39bfa0');\n",
              "          const dataTable =\n",
              "            await google.colab.kernel.invokeFunction('convertToInteractive',\n",
              "                                                     [key], {});\n",
              "          if (!dataTable) return;\n",
              "\n",
              "          const docLinkHtml = 'Like what you see? Visit the ' +\n",
              "            '<a target=\"_blank\" href=https://colab.research.google.com/notebooks/data_table.ipynb>data table notebook</a>'\n",
              "            + ' to learn more about interactive tables.';\n",
              "          element.innerHTML = '';\n",
              "          dataTable['output_type'] = 'display_data';\n",
              "          await google.colab.output.renderOutput(dataTable, element);\n",
              "          const docLink = document.createElement('div');\n",
              "          docLink.innerHTML = docLinkHtml;\n",
              "          element.appendChild(docLink);\n",
              "        }\n",
              "      </script>\n",
              "    </div>\n",
              "  </div>\n",
              "  "
            ]
          },
          "metadata": {},
          "execution_count": 8
        }
      ]
    },
    {
      "cell_type": "code",
      "execution_count": null,
      "metadata": {
        "id": "q-JVK-RTPtbz",
        "outputId": "40d5e50c-2915-4fb9-ffd6-cd1b865132d0",
        "colab": {
          "base_uri": "https://localhost:8080/",
          "height": 702
        }
      },
      "outputs": [
        {
          "output_type": "stream",
          "name": "stdout",
          "text": [
            "               gross    budget\n",
            "title_year                    \n",
            "2012-01-01       NaN       NaN\n",
            "1999-01-01 -0.364625 -0.244444\n",
            "2016-01-01  0.416208  0.029412\n",
            "2008-01-01  0.415049 -0.142857\n",
            "2007-01-01  0.124766  0.000000\n",
            "2002-01-01 -0.257297 -0.066667\n",
            "2003-01-01 -0.273199 -0.071429\n",
            "2013-01-01 -0.562691  0.000000\n",
            "2001-01-01 -0.038633 -0.176923\n",
            "2004-01-01  1.488578  0.121495\n",
            "1997-01-01  0.727594 -0.250000\n",
            "1998-01-01 -0.554086  0.000000\n",
            "1996-01-01  1.744413 -0.166667\n",
            "2015-01-01 -0.824101 -0.332000\n",
            "2005-01-01  2.297777  0.397206\n",
            "2006-01-01 -0.084410 -0.214286\n",
            "2008-01-01 -0.569755  0.000000\n",
            "2015-01-01 -0.506348 -0.363636\n",
            "1995-01-01  0.905692 -0.457143\n",
            "Correlation of Will Smith's Movie's Gross and Budget:  0.4008459065692696\n"
          ]
        },
        {
          "output_type": "display_data",
          "data": {
            "text/plain": [
              "<Figure size 720x360 with 1 Axes>"
            ],
            "image/png": "[encoded data removed]"
          },
          "metadata": {
            "needs_background": "light"
          }
        }
      ],
      "source": [
        "# Compute percent change using pct_change()\n",
        "returns = will_smith_index1.pct_change()\n",
        "print(returns)\n",
        "\n",
        "# Compute correlation using corr()\n",
        "correlation = returns['gross'].corr(returns['budget'])\n",
        "print(\"Correlation of Will Smith's Movie's Gross and Budget: \", correlation)\n",
        "\n",
        "# Make scatter plot\n",
        "plt.scatter(returns['gross'], returns['budget']);"
      ]
    },
    {
      "cell_type": "markdown",
      "metadata": {
        "id": "jfJbE7cJPtb0"
      },
      "source": [
        "The positive correlation means that when interest rates go down, stock prices go down. For example, during crises like 9/11, investors sold stocks and moved their money to less risky bonds (this is sometimes referred to as a 'flight to quality'). During these periods, stocks drop and interest rates drop as well. Of course, there are times when the opposite relationship holds too."
      ]
    },
    {
      "cell_type": "markdown",
      "metadata": {
        "id": "lgfhbhkcPtb0"
      },
      "source": [
        "### Flying Saucers Aren't Correlated to Flying Markets\n",
        "Two trending series may show a strong correlation even if they are completely unrelated. This is referred to as \"spurious correlation\". That's why when you look at the correlation of say, two stocks, you should look at the correlation of their returns and not their levels.\n",
        "\n",
        "To illustrate this point, calculate the correlation between the levels of the stock market and the annual sightings of UFOs. Both of those time series have trended up over the last several decades, and the correlation of their levels is very high. Then calculate the correlation of their percent changes. This will be close to zero, since there is no relationship between those two series.\n",
        "\n",
        "UFO data was downloaded from [www.nuforc.org](www.nuforc.org)."
      ]
    },
    {
      "cell_type": "markdown",
      "metadata": {
        "id": "p8PZt1_jPtb1"
      },
      "source": [
        "- Preprocess"
      ]
    },
    {
      "cell_type": "code",
      "source": [
        "#This dataset will focus on Will Smith and the Movie's Critic Reviews\n",
        "movie_data_will1 = df_movie[df_movie[\"actor_1_name\"] == 'Will Smith']\n",
        "movie_data1_will1 = pd.DataFrame(movie_data_will1, columns=['title_year', 'gross'])\n",
        "movie_data_critic1 = df_movie[df_movie[\"actor_1_name\"] == 'Will Smith']\n",
        "movie_data1_critic1 = pd.DataFrame(movie_data_will1, columns=['title_year', 'num_critic_for_reviews'])\n",
        "print(movie_data1_will1)\n",
        "print(movie_data1_critic1)"
      ],
      "metadata": {
        "colab": {
          "base_uri": "https://localhost:8080/"
        },
        "id": "HspGBDEdpICx",
        "outputId": "065b6b38-1aa1-4e80-f23f-b0202b6fc820"
      },
      "execution_count": null,
      "outputs": [
        {
          "output_type": "stream",
          "name": "stdout",
          "text": [
            "      title_year        gross\n",
            "19        2012.0  179020854.0\n",
            "71        1999.0  113745408.0\n",
            "73        2016.0  161087183.0\n",
            "116       2008.0  227946274.0\n",
            "117       2007.0  256386216.0\n",
            "152       2002.0  190418803.0\n",
            "190       2003.0  138396624.0\n",
            "197       2013.0   60522097.0\n",
            "272       2001.0   58183966.0\n",
            "274       2004.0  144795350.0\n",
            "352       1997.0  250147615.0\n",
            "409       1998.0  111544445.0\n",
            "522       1996.0  306124059.0\n",
            "673       2015.0   53846915.0\n",
            "842       2005.0  177575142.0\n",
            "851       2006.0  162586036.0\n",
            "893       2008.0   69951824.0\n",
            "1468      2015.0   34531832.0\n",
            "2052      1995.0   65807024.0\n",
            "      title_year  num_critic_for_reviews\n",
            "19        2012.0                   451.0\n",
            "71        1999.0                    85.0\n",
            "73        2016.0                   418.0\n",
            "116       2008.0                   318.0\n",
            "117       2007.0                   323.0\n",
            "152       2002.0                   208.0\n",
            "190       2003.0                    94.0\n",
            "197       2013.0                   349.0\n",
            "272       2001.0                   174.0\n",
            "274       2004.0                   225.0\n",
            "352       1997.0                   175.0\n",
            "409       1998.0                    81.0\n",
            "522       1996.0                   185.0\n",
            "673       2015.0                   279.0\n",
            "842       2005.0                   171.0\n",
            "851       2006.0                   201.0\n",
            "893       2008.0                   202.0\n",
            "1468      2015.0                   219.0\n",
            "2052      1995.0                    63.0\n"
          ]
        }
      ]
    },
    {
      "cell_type": "code",
      "source": [
        "levels = movie_data1_will1.merge(movie_data1_critic1, how='outer')\n",
        "levels"
      ],
      "metadata": {
        "colab": {
          "base_uri": "https://localhost:8080/",
          "height": 771
        },
        "id": "_3_-J12Ktz3U",
        "outputId": "efc9caf0-caf4-4519-9188-30a2f218965d"
      },
      "execution_count": null,
      "outputs": [
        {
          "output_type": "execute_result",
          "data": {
            "text/plain": [
              "    title_year        gross  num_critic_for_reviews\n",
              "0       2012.0  179020854.0                   451.0\n",
              "1       1999.0  113745408.0                    85.0\n",
              "2       2016.0  161087183.0                   418.0\n",
              "3       2008.0  227946274.0                   318.0\n",
              "4       2008.0  227946274.0                   202.0\n",
              "5       2008.0   69951824.0                   318.0\n",
              "6       2008.0   69951824.0                   202.0\n",
              "7       2007.0  256386216.0                   323.0\n",
              "8       2002.0  190418803.0                   208.0\n",
              "9       2003.0  138396624.0                    94.0\n",
              "10      2013.0   60522097.0                   349.0\n",
              "11      2001.0   58183966.0                   174.0\n",
              "12      2004.0  144795350.0                   225.0\n",
              "13      1997.0  250147615.0                   175.0\n",
              "14      1998.0  111544445.0                    81.0\n",
              "15      1996.0  306124059.0                   185.0\n",
              "16      2015.0   53846915.0                   279.0\n",
              "17      2015.0   53846915.0                   219.0\n",
              "18      2015.0   34531832.0                   279.0\n",
              "19      2015.0   34531832.0                   219.0\n",
              "20      2005.0  177575142.0                   171.0\n",
              "21      2006.0  162586036.0                   201.0\n",
              "22      1995.0   65807024.0                    63.0"
            ],
            "text/html": [
              "\n",
              "  <div id=\"df-562f2272-c9d7-4377-88f4-641a21c15eca\">\n",
              "    <div class=\"colab-df-container\">\n",
              "      <div>\n",
              "<style scoped>\n",
              "    .dataframe tbody tr th:only-of-type {\n",
              "        vertical-align: middle;\n",
              "    }\n",
              "\n",
              "    .dataframe tbody tr th {\n",
              "        vertical-align: top;\n",
              "    }\n",
              "\n",
              "    .dataframe thead th {\n",
              "        text-align: right;\n",
              "    }\n",
              "</style>\n",
              "<table border=\"1\" class=\"dataframe\">\n",
              "  <thead>\n",
              "    <tr style=\"text-align: right;\">\n",
              "      <th></th>\n",
              "      <th>title_year</th>\n",
              "      <th>gross</th>\n",
              "      <th>num_critic_for_reviews</th>\n",
              "    </tr>\n",
              "  </thead>\n",
              "  <tbody>\n",
              "    <tr>\n",
              "      <th>0</th>\n",
              "      <td>2012.0</td>\n",
              "      <td>179020854.0</td>\n",
              "      <td>451.0</td>\n",
              "    </tr>\n",
              "    <tr>\n",
              "      <th>1</th>\n",
              "      <td>1999.0</td>\n",
              "      <td>113745408.0</td>\n",
              "      <td>85.0</td>\n",
              "    </tr>\n",
              "    <tr>\n",
              "      <th>2</th>\n",
              "      <td>2016.0</td>\n",
              "      <td>161087183.0</td>\n",
              "      <td>418.0</td>\n",
              "    </tr>\n",
              "    <tr>\n",
              "      <th>3</th>\n",
              "      <td>2008.0</td>\n",
              "      <td>227946274.0</td>\n",
              "      <td>318.0</td>\n",
              "    </tr>\n",
              "    <tr>\n",
              "      <th>4</th>\n",
              "      <td>2008.0</td>\n",
              "      <td>227946274.0</td>\n",
              "      <td>202.0</td>\n",
              "    </tr>\n",
              "    <tr>\n",
              "      <th>5</th>\n",
              "      <td>2008.0</td>\n",
              "      <td>69951824.0</td>\n",
              "      <td>318.0</td>\n",
              "    </tr>\n",
              "    <tr>\n",
              "      <th>6</th>\n",
              "      <td>2008.0</td>\n",
              "      <td>69951824.0</td>\n",
              "      <td>202.0</td>\n",
              "    </tr>\n",
              "    <tr>\n",
              "      <th>7</th>\n",
              "      <td>2007.0</td>\n",
              "      <td>256386216.0</td>\n",
              "      <td>323.0</td>\n",
              "    </tr>\n",
              "    <tr>\n",
              "      <th>8</th>\n",
              "      <td>2002.0</td>\n",
              "      <td>190418803.0</td>\n",
              "      <td>208.0</td>\n",
              "    </tr>\n",
              "    <tr>\n",
              "      <th>9</th>\n",
              "      <td>2003.0</td>\n",
              "      <td>138396624.0</td>\n",
              "      <td>94.0</td>\n",
              "    </tr>\n",
              "    <tr>\n",
              "      <th>10</th>\n",
              "      <td>2013.0</td>\n",
              "      <td>60522097.0</td>\n",
              "      <td>349.0</td>\n",
              "    </tr>\n",
              "    <tr>\n",
              "      <th>11</th>\n",
              "      <td>2001.0</td>\n",
              "      <td>58183966.0</td>\n",
              "      <td>174.0</td>\n",
              "    </tr>\n",
              "    <tr>\n",
              "      <th>12</th>\n",
              "      <td>2004.0</td>\n",
              "      <td>144795350.0</td>\n",
              "      <td>225.0</td>\n",
              "    </tr>\n",
              "    <tr>\n",
              "      <th>13</th>\n",
              "      <td>1997.0</td>\n",
              "      <td>250147615.0</td>\n",
              "      <td>175.0</td>\n",
              "    </tr>\n",
              "    <tr>\n",
              "      <th>14</th>\n",
              "      <td>1998.0</td>\n",
              "      <td>111544445.0</td>\n",
              "      <td>81.0</td>\n",
              "    </tr>\n",
              "    <tr>\n",
              "      <th>15</th>\n",
              "      <td>1996.0</td>\n",
              "      <td>306124059.0</td>\n",
              "      <td>185.0</td>\n",
              "    </tr>\n",
              "    <tr>\n",
              "      <th>16</th>\n",
              "      <td>2015.0</td>\n",
              "      <td>53846915.0</td>\n",
              "      <td>279.0</td>\n",
              "    </tr>\n",
              "    <tr>\n",
              "      <th>17</th>\n",
              "      <td>2015.0</td>\n",
              "      <td>53846915.0</td>\n",
              "      <td>219.0</td>\n",
              "    </tr>\n",
              "    <tr>\n",
              "      <th>18</th>\n",
              "      <td>2015.0</td>\n",
              "      <td>34531832.0</td>\n",
              "      <td>279.0</td>\n",
              "    </tr>\n",
              "    <tr>\n",
              "      <th>19</th>\n",
              "      <td>2015.0</td>\n",
              "      <td>34531832.0</td>\n",
              "      <td>219.0</td>\n",
              "    </tr>\n",
              "    <tr>\n",
              "      <th>20</th>\n",
              "      <td>2005.0</td>\n",
              "      <td>177575142.0</td>\n",
              "      <td>171.0</td>\n",
              "    </tr>\n",
              "    <tr>\n",
              "      <th>21</th>\n",
              "      <td>2006.0</td>\n",
              "      <td>162586036.0</td>\n",
              "      <td>201.0</td>\n",
              "    </tr>\n",
              "    <tr>\n",
              "      <th>22</th>\n",
              "      <td>1995.0</td>\n",
              "      <td>65807024.0</td>\n",
              "      <td>63.0</td>\n",
              "    </tr>\n",
              "  </tbody>\n",
              "</table>\n",
              "</div>\n",
              "      <button class=\"colab-df-convert\" onclick=\"convertToInteractive('df-562f2272-c9d7-4377-88f4-641a21c15eca')\"\n",
              "              title=\"Convert this dataframe to an interactive table.\"\n",
              "              style=\"display:none;\">\n",
              "        \n",
              "  <svg xmlns=\"http://www.w3.org/2000/svg\" height=\"24px\"viewBox=\"0 0 24 24\"\n",
              "       width=\"24px\">\n",
              "    <path d=\"M0 0h24v24H0V0z\" fill=\"none\"/>\n",
              "    <path d=\"M18.56 5.44l.94 2.06.94-2.06 2.06-.94-2.06-.94-.94-2.06-.94 2.06-2.06.94zm-11 1L8.5 8.5l.94-2.06 2.06-.94-2.06-.94L8.5 2.5l-.94 2.06-2.06.94zm10 10l.94 2.06.94-2.06 2.06-.94-2.06-.94-.94-2.06-.94 2.06-2.06.94z\"/><path d=\"M17.41 7.96l-1.37-1.37c-.4-.4-.92-.59-1.43-.59-.52 0-1.04.2-1.43.59L10.3 9.45l-7.72 7.72c-.78.78-.78 2.05 0 2.83L4 21.41c.39.39.9.59 1.41.59.51 0 1.02-.2 1.41-.59l7.78-7.78 2.81-2.81c.8-.78.8-2.07 0-2.86zM5.41 20L4 18.59l7.72-7.72 1.47 1.35L5.41 20z\"/>\n",
              "  </svg>\n",
              "      </button>\n",
              "      \n",
              "  <style>\n",
              "    .colab-df-container {\n",
              "      display:flex;\n",
              "      flex-wrap:wrap;\n",
              "      gap: 12px;\n",
              "    }\n",
              "\n",
              "    .colab-df-convert {\n",
              "      background-color: #E8F0FE;\n",
              "      border: none;\n",
              "      border-radius: 50%;\n",
              "      cursor: pointer;\n",
              "      display: none;\n",
              "      fill: #1967D2;\n",
              "      height: 32px;\n",
              "      padding: 0 0 0 0;\n",
              "      width: 32px;\n",
              "    }\n",
              "\n",
              "    .colab-df-convert:hover {\n",
              "      background-color: #E2EBFA;\n",
              "      box-shadow: 0px 1px 2px rgba(60, 64, 67, 0.3), 0px 1px 3px 1px rgba(60, 64, 67, 0.15);\n",
              "      fill: #174EA6;\n",
              "    }\n",
              "\n",
              "    [theme=dark] .colab-df-convert {\n",
              "      background-color: #3B4455;\n",
              "      fill: #D2E3FC;\n",
              "    }\n",
              "\n",
              "    [theme=dark] .colab-df-convert:hover {\n",
              "      background-color: #434B5C;\n",
              "      box-shadow: 0px 1px 3px 1px rgba(0, 0, 0, 0.15);\n",
              "      filter: drop-shadow(0px 1px 2px rgba(0, 0, 0, 0.3));\n",
              "      fill: #FFFFFF;\n",
              "    }\n",
              "  </style>\n",
              "\n",
              "      <script>\n",
              "        const buttonEl =\n",
              "          document.querySelector('#df-562f2272-c9d7-4377-88f4-641a21c15eca button.colab-df-convert');\n",
              "        buttonEl.style.display =\n",
              "          google.colab.kernel.accessAllowed ? 'block' : 'none';\n",
              "\n",
              "        async function convertToInteractive(key) {\n",
              "          const element = document.querySelector('#df-562f2272-c9d7-4377-88f4-641a21c15eca');\n",
              "          const dataTable =\n",
              "            await google.colab.kernel.invokeFunction('convertToInteractive',\n",
              "                                                     [key], {});\n",
              "          if (!dataTable) return;\n",
              "\n",
              "          const docLinkHtml = 'Like what you see? Visit the ' +\n",
              "            '<a target=\"_blank\" href=https://colab.research.google.com/notebooks/data_table.ipynb>data table notebook</a>'\n",
              "            + ' to learn more about interactive tables.';\n",
              "          element.innerHTML = '';\n",
              "          dataTable['output_type'] = 'display_data';\n",
              "          await google.colab.output.renderOutput(dataTable, element);\n",
              "          const docLink = document.createElement('div');\n",
              "          docLink.innerHTML = docLinkHtml;\n",
              "          element.appendChild(docLink);\n",
              "        }\n",
              "      </script>\n",
              "    </div>\n",
              "  </div>\n",
              "  "
            ]
          },
          "metadata": {},
          "execution_count": 31
        }
      ]
    },
    {
      "cell_type": "code",
      "source": [
        "# Convert the date index to datetime\n",
        "levels['title_year'] = pd.to_datetime(levels['title_year'], format='%Y')\n",
        "levels_index = levels.set_index('title_year')\n",
        "\n",
        "print(levels_index)"
      ],
      "metadata": {
        "colab": {
          "base_uri": "https://localhost:8080/"
        },
        "id": "4xFiyvyVqsT-",
        "outputId": "5d46cbe9-fd35-4c86-f439-0434fb60c977"
      },
      "execution_count": null,
      "outputs": [
        {
          "output_type": "stream",
          "name": "stdout",
          "text": [
            "                  gross  num_critic_for_reviews\n",
            "title_year                                     \n",
            "2012-01-01  179020854.0                   451.0\n",
            "1999-01-01  113745408.0                    85.0\n",
            "2016-01-01  161087183.0                   418.0\n",
            "2008-01-01  227946274.0                   318.0\n",
            "2008-01-01  227946274.0                   202.0\n",
            "2008-01-01   69951824.0                   318.0\n",
            "2008-01-01   69951824.0                   202.0\n",
            "2007-01-01  256386216.0                   323.0\n",
            "2002-01-01  190418803.0                   208.0\n",
            "2003-01-01  138396624.0                    94.0\n",
            "2013-01-01   60522097.0                   349.0\n",
            "2001-01-01   58183966.0                   174.0\n",
            "2004-01-01  144795350.0                   225.0\n",
            "1997-01-01  250147615.0                   175.0\n",
            "1998-01-01  111544445.0                    81.0\n",
            "1996-01-01  306124059.0                   185.0\n",
            "2015-01-01   53846915.0                   279.0\n",
            "2015-01-01   53846915.0                   219.0\n",
            "2015-01-01   34531832.0                   279.0\n",
            "2015-01-01   34531832.0                   219.0\n",
            "2005-01-01  177575142.0                   171.0\n",
            "2006-01-01  162586036.0                   201.0\n",
            "1995-01-01   65807024.0                    63.0\n"
          ]
        }
      ]
    },
    {
      "cell_type": "code",
      "execution_count": null,
      "metadata": {
        "id": "7jHUYLOyPtb3",
        "outputId": "83890084-5d7d-4d57-d592-eaeb99a1ca43",
        "colab": {
          "base_uri": "https://localhost:8080/",
          "height": 346
        }
      },
      "outputs": [
        {
          "output_type": "execute_result",
          "data": {
            "text/plain": [
              "Text(0, 0.5, 'Will Smith All Througout the Year')"
            ]
          },
          "metadata": {},
          "execution_count": 34
        },
        {
          "output_type": "display_data",
          "data": {
            "text/plain": [
              "<Figure size 720x360 with 1 Axes>"
            ],
            "image/png": "[encoded data removed]"
          },
          "metadata": {
            "needs_background": "light"
          }
        }
      ],
      "source": [
        "levels_index.gross.plot(grid=True);\n",
        "plt.xlabel('Year');\n",
        "plt.ylabel('Will Smith All Througout the Year')"
      ]
    },
    {
      "cell_type": "code",
      "execution_count": null,
      "metadata": {
        "id": "iuEkmHshPtb3",
        "outputId": "fd96e227-cc81-41e4-be33-f384cac183e2",
        "colab": {
          "base_uri": "https://localhost:8080/"
        }
      },
      "outputs": [
        {
          "output_type": "stream",
          "name": "stdout",
          "text": [
            "Correlation of levels:  0.08432177866725717\n",
            "Correlation of changes:  0.06719720138057018\n"
          ]
        }
      ],
      "source": [
        "# Compute correlation of levels\n",
        "correlation1 = levels['gross'].corr(levels['num_critic_for_reviews'])\n",
        "print(\"Correlation of levels: \", correlation1)\n",
        "\n",
        "# Compute correlation fo percent changes\n",
        "changes = levels_index.pct_change()\n",
        "correlation2 = changes['gross'].corr(changes['num_critic_for_reviews'])\n",
        "print(\"Correlation of changes: \", correlation2)"
      ]
    },
    {
      "cell_type": "markdown",
      "metadata": {
        "id": "ERVtUJrlPtb3"
      },
      "source": [
        "## Simple Linear Regression\n",
        "- What is a Regression?\n",
        "    - Simple linear regression: $y_t = \\alpha + \\beta x_t + \\epsilon_t$\n",
        "- Relationship between R-Squared and Correlation\n",
        "    - $[corr(x, y)]^2 = R^2$\n",
        "    - $sign(corr) = sign(\\text{regression slope})$"
      ]
    },
    {
      "cell_type": "markdown",
      "metadata": {
        "id": "hQfgk49jPtb4"
      },
      "source": [
        "### Looking at a Regression's R-Squared\n",
        "R-squared measures how closely the data fit the regression line, so the R-squared in a simple regression is related to the correlation between the two variables. In particular, the magnitude of the correlation is the square root of the R-squared and the sign of the correlation is the sign of the regression coefficient.\n",
        "\n",
        "In this exercise, you will start using the statistical package ```statsmodels```, which performs much of the statistical modeling and testing that is found in R and software packages like SAS and MATLAB.\n",
        "\n",
        "You will take two series, ```x``` and ```y```, compute their correlation, and then regress ```y``` on ```x``` using the function ```OLS(y,x)``` in the ```statsmodels.api``` library (note that the dependent, or right-hand side variable y is the first argument). Most linear regressions contain a constant term which is the intercept (the $\\alpha$ in the regression $y_t = \\alpha + \\beta x_t + \\epsilon_t$). To include a constant using the function ```OLS()```, you need to add a column of 1's to the right hand side of the regression."
      ]
    },
    {
      "cell_type": "markdown",
      "metadata": {
        "id": "zwcFdb_yPtb4"
      },
      "source": [
        "- Preprocess"
      ]
    },
    {
      "cell_type": "code",
      "execution_count": null,
      "metadata": {
        "id": "VgR_LxmFPtb4"
      },
      "outputs": [],
      "source": [
        "movie_data_will = df_movie[df_movie[\"actor_1_name\"] == 'Will Smith']\n",
        "movie_data1_will = pd.DataFrame(movie_data_will, columns=['title_year', 'gross', 'budget'])\n",
        "\n",
        "x = movie_data1_will.reset_index(drop=True)['gross']\n",
        "y = movie_data1_will.reset_index(drop=True)['budget']"
      ]
    },
    {
      "cell_type": "code",
      "execution_count": null,
      "metadata": {
        "id": "lO9p3ShYPtb4",
        "outputId": "80d3f6b5-678d-4d91-fd7c-af791f1003b6",
        "colab": {
          "base_uri": "https://localhost:8080/"
        }
      },
      "outputs": [
        {
          "output_type": "stream",
          "name": "stdout",
          "text": [
            "0     179020854.0\n",
            "1     113745408.0\n",
            "2     161087183.0\n",
            "3     227946274.0\n",
            "4     256386216.0\n",
            "5     190418803.0\n",
            "6     138396624.0\n",
            "7      60522097.0\n",
            "8      58183966.0\n",
            "9     144795350.0\n",
            "10    250147615.0\n",
            "11    111544445.0\n",
            "12    306124059.0\n",
            "13     53846915.0\n",
            "14    177575142.0\n",
            "15    162586036.0\n",
            "16     69951824.0\n",
            "17     34531832.0\n",
            "18     65807024.0\n",
            "Name: gross, dtype: float64\n",
            "0     225000000.0\n",
            "1     170000000.0\n",
            "2     175000000.0\n",
            "3     150000000.0\n",
            "4     150000000.0\n",
            "5     140000000.0\n",
            "6     130000000.0\n",
            "7     130000000.0\n",
            "8     107000000.0\n",
            "9     120000000.0\n",
            "10     90000000.0\n",
            "11     90000000.0\n",
            "12     75000000.0\n",
            "13     50100000.0\n",
            "14     70000000.0\n",
            "15     55000000.0\n",
            "16     55000000.0\n",
            "17     35000000.0\n",
            "18     19000000.0\n",
            "Name: budget, dtype: float64\n"
          ]
        }
      ],
      "source": [
        "print(x)\n",
        "print(y)"
      ]
    },
    {
      "cell_type": "code",
      "execution_count": null,
      "metadata": {
        "id": "FY2dOKBHPtb6",
        "outputId": "ce0f0c72-4b24-48bb-9529-0ae780d3cdf0",
        "colab": {
          "base_uri": "https://localhost:8080/"
        }
      },
      "outputs": [
        {
          "output_type": "stream",
          "name": "stdout",
          "text": [
            "The correlation between x and y is 0.35\n",
            "                            OLS Regression Results                            \n",
            "==============================================================================\n",
            "Dep. Variable:                 budget   R-squared:                       0.119\n",
            "Model:                            OLS   Adj. R-squared:                  0.067\n",
            "Method:                 Least Squares   F-statistic:                     2.298\n",
            "Date:                Sun, 09 Oct 2022   Prob (F-statistic):              0.148\n",
            "Time:                        16:30:02   Log-Likelihood:                -363.63\n",
            "No. Observations:                  19   AIC:                             731.3\n",
            "Df Residuals:                      17   BIC:                             733.2\n",
            "Df Model:                           1                                         \n",
            "Covariance Type:            nonrobust                                         \n",
            "==============================================================================\n",
            "                 coef    std err          t      P>|t|      [0.025      0.975]\n",
            "------------------------------------------------------------------------------\n",
            "const       7.237e+07   2.59e+07      2.793      0.012    1.77e+07    1.27e+08\n",
            "gross          0.2393      0.158      1.516      0.148      -0.094       0.572\n",
            "==============================================================================\n",
            "Omnibus:                        0.852   Durbin-Watson:                   0.318\n",
            "Prob(Omnibus):                  0.653   Jarque-Bera (JB):                0.838\n",
            "Skew:                           0.373   Prob(JB):                        0.658\n",
            "Kurtosis:                       2.291   Cond. No.                     3.54e+08\n",
            "==============================================================================\n",
            "\n",
            "Notes:\n",
            "[1] Standard Errors assume that the covariance matrix of the errors is correctly specified.\n",
            "[2] The condition number is large, 3.54e+08. This might indicate that there are\n",
            "strong multicollinearity or other numerical problems.\n"
          ]
        },
        {
          "output_type": "stream",
          "name": "stderr",
          "text": [
            "/usr/local/lib/python3.7/dist-packages/statsmodels/tsa/tsatools.py:142: FutureWarning: In a future version of pandas all arguments of concat except for the argument 'objs' will be keyword-only\n",
            "  x = pd.concat(x[::order], 1)\n",
            "/usr/local/lib/python3.7/dist-packages/scipy/stats/stats.py:1542: UserWarning: kurtosistest only valid for n>=20 ... continuing anyway, n=19\n",
            "  \"anyway, n=%i\" % int(n))\n"
          ]
        }
      ],
      "source": [
        "import statsmodels.api as sm\n",
        "\n",
        "# Compute correlation of x and y\n",
        "correlation = x.corr(y)\n",
        "print(\"The correlation between x and y is %4.2f\" % (correlation))\n",
        "\n",
        "# Convert the Series x to a DataFrame and name the column x\n",
        "dfx = pd.DataFrame(x, columns=['gross'])\n",
        "\n",
        "# Add a constant to the DataFrame dfx\n",
        "dfx1 = sm.add_constant(dfx)\n",
        "\n",
        "# Regress y on dfx1\n",
        "result = sm.OLS(y, dfx1).fit()\n",
        "\n",
        "# Print out the results and look at the relationship between R-squared and the correlation above\n",
        "print(result.summary())"
      ]
    },
    {
      "cell_type": "markdown",
      "metadata": {
        "id": "V8vt2Gk4Ptb6"
      },
      "source": [
        "## Autocorrelation\n",
        "- Correlation of a time series with a lagged copy of itself\n",
        "- Lag-one autocorrelation\n",
        "- Also called **serial correlation**"
      ]
    },
    {
      "cell_type": "markdown",
      "metadata": {
        "id": "_tQxYjM1Ptb6"
      },
      "source": [
        "### A Popular Strategy Using Autocorrelation\n",
        "One puzzling anomaly with stocks is that investors tend to overreact to news. Following large jumps, either up or down, stock prices tend to reverse. This is described as mean reversion in stock prices: prices tend to bounce back, or revert, towards previous levels after large moves, which are observed over time horizons of about a week. A more mathematical way to describe mean reversion is to say that stock returns are negatively autocorrelated.\n",
        "\n",
        "This simple idea is actually the basis for a popular hedge fund strategy. If you're curious to learn more about this hedge fund strategy (although it's not necessary reading for anything else later in the course), see [here](https://www.quantopian.com/posts/enhancing-short-term-mean-reversion-strategies-1).\n",
        "\n",
        "You'll look at the autocorrelation of weekly returns of MSFT stock from 2012 to 2017. You'll start with a DataFrame ```MSFT``` of daily prices. You should use the ```.resample()``` method to get weekly prices and then compute returns from prices. Use the pandas method ```.autocorr()``` to get the autocorrelation and show that the autocorrelation is negative. Note that the ```.autocorr()``` method only works on Series, not DataFrames (even DataFrames with one column), so you will have to select the column in the DataFrame."
      ]
    },
    {
      "cell_type": "markdown",
      "metadata": {
        "id": "hv3tFa_dPtb6"
      },
      "source": [
        "- Preprocess"
      ]
    },
    {
      "cell_type": "code",
      "execution_count": null,
      "metadata": {
        "id": "JvXXZm_kPtb6",
        "outputId": "360ac1f1-3198-4381-a4af-c477770c608f",
        "colab": {
          "base_uri": "https://localhost:8080/",
          "height": 677
        }
      },
      "outputs": [
        {
          "output_type": "execute_result",
          "data": {
            "text/plain": [
              "                  gross\n",
              "title_year             \n",
              "2012-01-01  179020854.0\n",
              "1999-01-01  113745408.0\n",
              "2016-01-01  161087183.0\n",
              "2008-01-01  227946274.0\n",
              "2007-01-01  256386216.0\n",
              "2002-01-01  190418803.0\n",
              "2003-01-01  138396624.0\n",
              "2013-01-01   60522097.0\n",
              "2001-01-01   58183966.0\n",
              "2004-01-01  144795350.0\n",
              "1997-01-01  250147615.0\n",
              "1998-01-01  111544445.0\n",
              "1996-01-01  306124059.0\n",
              "2015-01-01   53846915.0\n",
              "2005-01-01  177575142.0\n",
              "2006-01-01  162586036.0\n",
              "2008-01-01   69951824.0\n",
              "2015-01-01   34531832.0\n",
              "1995-01-01   65807024.0"
            ],
            "text/html": [
              "\n",
              "  <div id=\"df-405ecd6d-bc5c-433a-8d66-ea385ff72076\">\n",
              "    <div class=\"colab-df-container\">\n",
              "      <div>\n",
              "<style scoped>\n",
              "    .dataframe tbody tr th:only-of-type {\n",
              "        vertical-align: middle;\n",
              "    }\n",
              "\n",
              "    .dataframe tbody tr th {\n",
              "        vertical-align: top;\n",
              "    }\n",
              "\n",
              "    .dataframe thead th {\n",
              "        text-align: right;\n",
              "    }\n",
              "</style>\n",
              "<table border=\"1\" class=\"dataframe\">\n",
              "  <thead>\n",
              "    <tr style=\"text-align: right;\">\n",
              "      <th></th>\n",
              "      <th>gross</th>\n",
              "    </tr>\n",
              "    <tr>\n",
              "      <th>title_year</th>\n",
              "      <th></th>\n",
              "    </tr>\n",
              "  </thead>\n",
              "  <tbody>\n",
              "    <tr>\n",
              "      <th>2012-01-01</th>\n",
              "      <td>179020854.0</td>\n",
              "    </tr>\n",
              "    <tr>\n",
              "      <th>1999-01-01</th>\n",
              "      <td>113745408.0</td>\n",
              "    </tr>\n",
              "    <tr>\n",
              "      <th>2016-01-01</th>\n",
              "      <td>161087183.0</td>\n",
              "    </tr>\n",
              "    <tr>\n",
              "      <th>2008-01-01</th>\n",
              "      <td>227946274.0</td>\n",
              "    </tr>\n",
              "    <tr>\n",
              "      <th>2007-01-01</th>\n",
              "      <td>256386216.0</td>\n",
              "    </tr>\n",
              "    <tr>\n",
              "      <th>2002-01-01</th>\n",
              "      <td>190418803.0</td>\n",
              "    </tr>\n",
              "    <tr>\n",
              "      <th>2003-01-01</th>\n",
              "      <td>138396624.0</td>\n",
              "    </tr>\n",
              "    <tr>\n",
              "      <th>2013-01-01</th>\n",
              "      <td>60522097.0</td>\n",
              "    </tr>\n",
              "    <tr>\n",
              "      <th>2001-01-01</th>\n",
              "      <td>58183966.0</td>\n",
              "    </tr>\n",
              "    <tr>\n",
              "      <th>2004-01-01</th>\n",
              "      <td>144795350.0</td>\n",
              "    </tr>\n",
              "    <tr>\n",
              "      <th>1997-01-01</th>\n",
              "      <td>250147615.0</td>\n",
              "    </tr>\n",
              "    <tr>\n",
              "      <th>1998-01-01</th>\n",
              "      <td>111544445.0</td>\n",
              "    </tr>\n",
              "    <tr>\n",
              "      <th>1996-01-01</th>\n",
              "      <td>306124059.0</td>\n",
              "    </tr>\n",
              "    <tr>\n",
              "      <th>2015-01-01</th>\n",
              "      <td>53846915.0</td>\n",
              "    </tr>\n",
              "    <tr>\n",
              "      <th>2005-01-01</th>\n",
              "      <td>177575142.0</td>\n",
              "    </tr>\n",
              "    <tr>\n",
              "      <th>2006-01-01</th>\n",
              "      <td>162586036.0</td>\n",
              "    </tr>\n",
              "    <tr>\n",
              "      <th>2008-01-01</th>\n",
              "      <td>69951824.0</td>\n",
              "    </tr>\n",
              "    <tr>\n",
              "      <th>2015-01-01</th>\n",
              "      <td>34531832.0</td>\n",
              "    </tr>\n",
              "    <tr>\n",
              "      <th>1995-01-01</th>\n",
              "      <td>65807024.0</td>\n",
              "    </tr>\n",
              "  </tbody>\n",
              "</table>\n",
              "</div>\n",
              "      <button class=\"colab-df-convert\" onclick=\"convertToInteractive('df-405ecd6d-bc5c-433a-8d66-ea385ff72076')\"\n",
              "              title=\"Convert this dataframe to an interactive table.\"\n",
              "              style=\"display:none;\">\n",
              "        \n",
              "  <svg xmlns=\"http://www.w3.org/2000/svg\" height=\"24px\"viewBox=\"0 0 24 24\"\n",
              "       width=\"24px\">\n",
              "    <path d=\"M0 0h24v24H0V0z\" fill=\"none\"/>\n",
              "    <path d=\"M18.56 5.44l.94 2.06.94-2.06 2.06-.94-2.06-.94-.94-2.06-.94 2.06-2.06.94zm-11 1L8.5 8.5l.94-2.06 2.06-.94-2.06-.94L8.5 2.5l-.94 2.06-2.06.94zm10 10l.94 2.06.94-2.06 2.06-.94-2.06-.94-.94-2.06-.94 2.06-2.06.94z\"/><path d=\"M17.41 7.96l-1.37-1.37c-.4-.4-.92-.59-1.43-.59-.52 0-1.04.2-1.43.59L10.3 9.45l-7.72 7.72c-.78.78-.78 2.05 0 2.83L4 21.41c.39.39.9.59 1.41.59.51 0 1.02-.2 1.41-.59l7.78-7.78 2.81-2.81c.8-.78.8-2.07 0-2.86zM5.41 20L4 18.59l7.72-7.72 1.47 1.35L5.41 20z\"/>\n",
              "  </svg>\n",
              "      </button>\n",
              "      \n",
              "  <style>\n",
              "    .colab-df-container {\n",
              "      display:flex;\n",
              "      flex-wrap:wrap;\n",
              "      gap: 12px;\n",
              "    }\n",
              "\n",
              "    .colab-df-convert {\n",
              "      background-color: #E8F0FE;\n",
              "      border: none;\n",
              "      border-radius: 50%;\n",
              "      cursor: pointer;\n",
              "      display: none;\n",
              "      fill: #1967D2;\n",
              "      height: 32px;\n",
              "      padding: 0 0 0 0;\n",
              "      width: 32px;\n",
              "    }\n",
              "\n",
              "    .colab-df-convert:hover {\n",
              "      background-color: #E2EBFA;\n",
              "      box-shadow: 0px 1px 2px rgba(60, 64, 67, 0.3), 0px 1px 3px 1px rgba(60, 64, 67, 0.15);\n",
              "      fill: #174EA6;\n",
              "    }\n",
              "\n",
              "    [theme=dark] .colab-df-convert {\n",
              "      background-color: #3B4455;\n",
              "      fill: #D2E3FC;\n",
              "    }\n",
              "\n",
              "    [theme=dark] .colab-df-convert:hover {\n",
              "      background-color: #434B5C;\n",
              "      box-shadow: 0px 1px 3px 1px rgba(0, 0, 0, 0.15);\n",
              "      filter: drop-shadow(0px 1px 2px rgba(0, 0, 0, 0.3));\n",
              "      fill: #FFFFFF;\n",
              "    }\n",
              "  </style>\n",
              "\n",
              "      <script>\n",
              "        const buttonEl =\n",
              "          document.querySelector('#df-405ecd6d-bc5c-433a-8d66-ea385ff72076 button.colab-df-convert');\n",
              "        buttonEl.style.display =\n",
              "          google.colab.kernel.accessAllowed ? 'block' : 'none';\n",
              "\n",
              "        async function convertToInteractive(key) {\n",
              "          const element = document.querySelector('#df-405ecd6d-bc5c-433a-8d66-ea385ff72076');\n",
              "          const dataTable =\n",
              "            await google.colab.kernel.invokeFunction('convertToInteractive',\n",
              "                                                     [key], {});\n",
              "          if (!dataTable) return;\n",
              "\n",
              "          const docLinkHtml = 'Like what you see? Visit the ' +\n",
              "            '<a target=\"_blank\" href=https://colab.research.google.com/notebooks/data_table.ipynb>data table notebook</a>'\n",
              "            + ' to learn more about interactive tables.';\n",
              "          element.innerHTML = '';\n",
              "          dataTable['output_type'] = 'display_data';\n",
              "          await google.colab.output.renderOutput(dataTable, element);\n",
              "          const docLink = document.createElement('div');\n",
              "          docLink.innerHTML = docLinkHtml;\n",
              "          element.appendChild(docLink);\n",
              "        }\n",
              "      </script>\n",
              "    </div>\n",
              "  </div>\n",
              "  "
            ]
          },
          "metadata": {},
          "execution_count": 57
        }
      ],
      "source": [
        "movie_data = df_movie[df_movie[\"actor_1_name\"] == 'Will Smith']\n",
        "movie_data1 = pd.DataFrame(movie_data, columns=['title_year', 'gross'])\n",
        "\n",
        "movie_data1['title_year'] = pd.to_datetime(movie_data1['title_year'], format='%Y')\n",
        "will_smith = movie_data1.set_index('title_year')\n",
        "will_smith_pd = pd.DataFrame(will_smith)\n",
        "will_smith_pd \n"
      ]
    },
    {
      "cell_type": "code",
      "execution_count": null,
      "metadata": {
        "id": "-7jSS_JzPtb7",
        "outputId": "2089b971-af72-45c2-89b1-5dac145a7172",
        "colab": {
          "base_uri": "https://localhost:8080/"
        }
      },
      "outputs": [
        {
          "output_type": "stream",
          "name": "stdout",
          "text": [
            "                  gross\n",
            "title_year             \n",
            "1995-12-31   65807024.0\n",
            "1996-12-31  306124059.0\n",
            "1997-12-31  250147615.0\n",
            "1998-12-31  111544445.0\n",
            "1999-12-31  113745408.0\n",
            "2000-12-31          NaN\n",
            "2001-12-31   58183966.0\n",
            "2002-12-31  190418803.0\n",
            "2003-12-31  138396624.0\n",
            "2004-12-31  144795350.0\n",
            "2005-12-31  177575142.0\n",
            "2006-12-31  162586036.0\n",
            "2007-12-31  256386216.0\n",
            "2008-12-31   69951824.0\n",
            "2009-12-31          NaN\n",
            "2010-12-31          NaN\n",
            "2011-12-31          NaN\n",
            "2012-12-31  179020854.0\n",
            "2013-12-31   60522097.0\n",
            "2014-12-31          NaN\n",
            "2015-12-31   34531832.0\n",
            "2016-12-31  161087183.0\n",
            "The auto correlation of weekly returns is -0.30\n"
          ]
        }
      ],
      "source": [
        "# Convert the data to yearly data\n",
        "#Note: We cannot convert the data given into weekly since the only given on the dataset is year\n",
        "will_smith_pd1 = will_smith_pd.resample(rule='A').last()\n",
        "\n",
        "# Compute the percentage change of prices\n",
        "returns = will_smith_pd1.pct_change()\n",
        "\n",
        "# Compute and print the autocorrelation of returns\n",
        "autocorrelation = returns['gross'].autocorr()\n",
        "print('The auto correlation of weekly returns is %4.2f' % (autocorrelation))"
      ]
    },
    {
      "cell_type": "markdown",
      "metadata": {
        "id": "bYb1DzjmPtb7"
      },
      "source": [
        "### Are Interest Rates Autocorrelated?\n",
        "When you look at daily changes in interest rates, the autocorrelation is close to zero. However, if you resample the data and look at annual changes, the autocorrelation is negative. This implies that while short term changes in interest rates may be uncorrelated, long term changes in interest rates are negatively autocorrelated. A daily move up or down in interest rates is unlikely to tell you anything about interest rates tomorrow, but a move in interest rates over a year can tell you something about where interest rates are going over the next year. And this makes some economic sense: over long horizons, when interest rates go up, the economy tends to slow down, which consequently causes interest rates to fall, and vice versa."
      ]
    },
    {
      "cell_type": "markdown",
      "metadata": {
        "id": "IO1AtFR0Ptb7"
      },
      "source": [
        "- Preprocess"
      ]
    },
    {
      "cell_type": "code",
      "execution_count": null,
      "metadata": {
        "id": "WvTdBox-Ptb8",
        "outputId": "b9622bde-e7bc-49ed-a590-4ab6b6036d0c",
        "colab": {
          "base_uri": "https://localhost:8080/",
          "height": 677
        }
      },
      "outputs": [
        {
          "output_type": "execute_result",
          "data": {
            "text/plain": [
              "                  gross\n",
              "title_year             \n",
              "2012-01-01  179020854.0\n",
              "1999-01-01  113745408.0\n",
              "2016-01-01  161087183.0\n",
              "2008-01-01  227946274.0\n",
              "2007-01-01  256386216.0\n",
              "2002-01-01  190418803.0\n",
              "2003-01-01  138396624.0\n",
              "2013-01-01   60522097.0\n",
              "2001-01-01   58183966.0\n",
              "2004-01-01  144795350.0\n",
              "1997-01-01  250147615.0\n",
              "1998-01-01  111544445.0\n",
              "1996-01-01  306124059.0\n",
              "2015-01-01   53846915.0\n",
              "2005-01-01  177575142.0\n",
              "2006-01-01  162586036.0\n",
              "2008-01-01   69951824.0\n",
              "2015-01-01   34531832.0\n",
              "1995-01-01   65807024.0"
            ],
            "text/html": [
              "\n",
              "  <div id=\"df-e974c466-d35a-4777-a218-e43b8cd94dd7\">\n",
              "    <div class=\"colab-df-container\">\n",
              "      <div>\n",
              "<style scoped>\n",
              "    .dataframe tbody tr th:only-of-type {\n",
              "        vertical-align: middle;\n",
              "    }\n",
              "\n",
              "    .dataframe tbody tr th {\n",
              "        vertical-align: top;\n",
              "    }\n",
              "\n",
              "    .dataframe thead th {\n",
              "        text-align: right;\n",
              "    }\n",
              "</style>\n",
              "<table border=\"1\" class=\"dataframe\">\n",
              "  <thead>\n",
              "    <tr style=\"text-align: right;\">\n",
              "      <th></th>\n",
              "      <th>gross</th>\n",
              "    </tr>\n",
              "    <tr>\n",
              "      <th>title_year</th>\n",
              "      <th></th>\n",
              "    </tr>\n",
              "  </thead>\n",
              "  <tbody>\n",
              "    <tr>\n",
              "      <th>2012-01-01</th>\n",
              "      <td>179020854.0</td>\n",
              "    </tr>\n",
              "    <tr>\n",
              "      <th>1999-01-01</th>\n",
              "      <td>113745408.0</td>\n",
              "    </tr>\n",
              "    <tr>\n",
              "      <th>2016-01-01</th>\n",
              "      <td>161087183.0</td>\n",
              "    </tr>\n",
              "    <tr>\n",
              "      <th>2008-01-01</th>\n",
              "      <td>227946274.0</td>\n",
              "    </tr>\n",
              "    <tr>\n",
              "      <th>2007-01-01</th>\n",
              "      <td>256386216.0</td>\n",
              "    </tr>\n",
              "    <tr>\n",
              "      <th>2002-01-01</th>\n",
              "      <td>190418803.0</td>\n",
              "    </tr>\n",
              "    <tr>\n",
              "      <th>2003-01-01</th>\n",
              "      <td>138396624.0</td>\n",
              "    </tr>\n",
              "    <tr>\n",
              "      <th>2013-01-01</th>\n",
              "      <td>60522097.0</td>\n",
              "    </tr>\n",
              "    <tr>\n",
              "      <th>2001-01-01</th>\n",
              "      <td>58183966.0</td>\n",
              "    </tr>\n",
              "    <tr>\n",
              "      <th>2004-01-01</th>\n",
              "      <td>144795350.0</td>\n",
              "    </tr>\n",
              "    <tr>\n",
              "      <th>1997-01-01</th>\n",
              "      <td>250147615.0</td>\n",
              "    </tr>\n",
              "    <tr>\n",
              "      <th>1998-01-01</th>\n",
              "      <td>111544445.0</td>\n",
              "    </tr>\n",
              "    <tr>\n",
              "      <th>1996-01-01</th>\n",
              "      <td>306124059.0</td>\n",
              "    </tr>\n",
              "    <tr>\n",
              "      <th>2015-01-01</th>\n",
              "      <td>53846915.0</td>\n",
              "    </tr>\n",
              "    <tr>\n",
              "      <th>2005-01-01</th>\n",
              "      <td>177575142.0</td>\n",
              "    </tr>\n",
              "    <tr>\n",
              "      <th>2006-01-01</th>\n",
              "      <td>162586036.0</td>\n",
              "    </tr>\n",
              "    <tr>\n",
              "      <th>2008-01-01</th>\n",
              "      <td>69951824.0</td>\n",
              "    </tr>\n",
              "    <tr>\n",
              "      <th>2015-01-01</th>\n",
              "      <td>34531832.0</td>\n",
              "    </tr>\n",
              "    <tr>\n",
              "      <th>1995-01-01</th>\n",
              "      <td>65807024.0</td>\n",
              "    </tr>\n",
              "  </tbody>\n",
              "</table>\n",
              "</div>\n",
              "      <button class=\"colab-df-convert\" onclick=\"convertToInteractive('df-e974c466-d35a-4777-a218-e43b8cd94dd7')\"\n",
              "              title=\"Convert this dataframe to an interactive table.\"\n",
              "              style=\"display:none;\">\n",
              "        \n",
              "  <svg xmlns=\"http://www.w3.org/2000/svg\" height=\"24px\"viewBox=\"0 0 24 24\"\n",
              "       width=\"24px\">\n",
              "    <path d=\"M0 0h24v24H0V0z\" fill=\"none\"/>\n",
              "    <path d=\"M18.56 5.44l.94 2.06.94-2.06 2.06-.94-2.06-.94-.94-2.06-.94 2.06-2.06.94zm-11 1L8.5 8.5l.94-2.06 2.06-.94-2.06-.94L8.5 2.5l-.94 2.06-2.06.94zm10 10l.94 2.06.94-2.06 2.06-.94-2.06-.94-.94-2.06-.94 2.06-2.06.94z\"/><path d=\"M17.41 7.96l-1.37-1.37c-.4-.4-.92-.59-1.43-.59-.52 0-1.04.2-1.43.59L10.3 9.45l-7.72 7.72c-.78.78-.78 2.05 0 2.83L4 21.41c.39.39.9.59 1.41.59.51 0 1.02-.2 1.41-.59l7.78-7.78 2.81-2.81c.8-.78.8-2.07 0-2.86zM5.41 20L4 18.59l7.72-7.72 1.47 1.35L5.41 20z\"/>\n",
              "  </svg>\n",
              "      </button>\n",
              "      \n",
              "  <style>\n",
              "    .colab-df-container {\n",
              "      display:flex;\n",
              "      flex-wrap:wrap;\n",
              "      gap: 12px;\n",
              "    }\n",
              "\n",
              "    .colab-df-convert {\n",
              "      background-color: #E8F0FE;\n",
              "      border: none;\n",
              "      border-radius: 50%;\n",
              "      cursor: pointer;\n",
              "      display: none;\n",
              "      fill: #1967D2;\n",
              "      height: 32px;\n",
              "      padding: 0 0 0 0;\n",
              "      width: 32px;\n",
              "    }\n",
              "\n",
              "    .colab-df-convert:hover {\n",
              "      background-color: #E2EBFA;\n",
              "      box-shadow: 0px 1px 2px rgba(60, 64, 67, 0.3), 0px 1px 3px 1px rgba(60, 64, 67, 0.15);\n",
              "      fill: #174EA6;\n",
              "    }\n",
              "\n",
              "    [theme=dark] .colab-df-convert {\n",
              "      background-color: #3B4455;\n",
              "      fill: #D2E3FC;\n",
              "    }\n",
              "\n",
              "    [theme=dark] .colab-df-convert:hover {\n",
              "      background-color: #434B5C;\n",
              "      box-shadow: 0px 1px 3px 1px rgba(0, 0, 0, 0.15);\n",
              "      filter: drop-shadow(0px 1px 2px rgba(0, 0, 0, 0.3));\n",
              "      fill: #FFFFFF;\n",
              "    }\n",
              "  </style>\n",
              "\n",
              "      <script>\n",
              "        const buttonEl =\n",
              "          document.querySelector('#df-e974c466-d35a-4777-a218-e43b8cd94dd7 button.colab-df-convert');\n",
              "        buttonEl.style.display =\n",
              "          google.colab.kernel.accessAllowed ? 'block' : 'none';\n",
              "\n",
              "        async function convertToInteractive(key) {\n",
              "          const element = document.querySelector('#df-e974c466-d35a-4777-a218-e43b8cd94dd7');\n",
              "          const dataTable =\n",
              "            await google.colab.kernel.invokeFunction('convertToInteractive',\n",
              "                                                     [key], {});\n",
              "          if (!dataTable) return;\n",
              "\n",
              "          const docLinkHtml = 'Like what you see? Visit the ' +\n",
              "            '<a target=\"_blank\" href=https://colab.research.google.com/notebooks/data_table.ipynb>data table notebook</a>'\n",
              "            + ' to learn more about interactive tables.';\n",
              "          element.innerHTML = '';\n",
              "          dataTable['output_type'] = 'display_data';\n",
              "          await google.colab.output.renderOutput(dataTable, element);\n",
              "          const docLink = document.createElement('div');\n",
              "          docLink.innerHTML = docLinkHtml;\n",
              "          element.appendChild(docLink);\n",
              "        }\n",
              "      </script>\n",
              "    </div>\n",
              "  </div>\n",
              "  "
            ]
          },
          "metadata": {},
          "execution_count": 64
        }
      ],
      "source": [
        "movie_data = df_movie[df_movie[\"actor_1_name\"] == 'Will Smith']\n",
        "movie_data1 = pd.DataFrame(movie_data, columns=['title_year', 'gross'])\n",
        "\n",
        "movie_data1['title_year'] = pd.to_datetime(movie_data1['title_year'], format='%Y')\n",
        "will_smith = movie_data1.set_index('title_year')\n",
        "will_smith_pd = pd.DataFrame(will_smith)\n",
        "will_smith_pd "
      ]
    },
    {
      "cell_type": "code",
      "execution_count": null,
      "metadata": {
        "id": "zDNvcTFIPtb8",
        "outputId": "b9960e8f-9b93-4607-d1db-d562ad95cf87",
        "colab": {
          "base_uri": "https://localhost:8080/"
        }
      },
      "outputs": [
        {
          "output_type": "stream",
          "name": "stdout",
          "text": [
            "The autocorrelation of daily interest rate changes is -0.55\n",
            "The autocorrelation of annual interest rate changes is -0.31\n"
          ]
        }
      ],
      "source": [
        "# Compute the daily change in interest rates\n",
        "will_smith_pd_diff = will_smith_pd.diff()\n",
        "\n",
        "# Compute and print the autocorrelation of daily changes\n",
        "autocorrelation_daily = will_smith_pd_diff['gross'].autocorr()\n",
        "print(\"The autocorrelation of daily interest rate changes is %4.2f\" %(autocorrelation_daily))\n",
        "\n",
        "# Convert the daily data to annual data\n",
        "yearly_rates = will_smith_pd.resample(rule='A').last()\n",
        "\n",
        "# Repeat above for annual data\n",
        "yearly_diff = yearly_rates.diff()\n",
        "autocorrelation_yearly = yearly_diff['gross'].autocorr()\n",
        "print(\"The autocorrelation of annual interest rate changes is %4.2f\" %(autocorrelation_yearly))"
      ]
    }
  ],
  "metadata": {
    "kernelspec": {
      "display_name": "Python 3",
      "language": "python",
      "name": "python3"
    },
    "language_info": {
      "codemirror_mode": {
        "name": "ipython",
        "version": 3
      },
      "file_extension": ".py",
      "mimetype": "text/x-python",
      "name": "python",
      "nbconvert_exporter": "python",
      "pygments_lexer": "ipython3",
      "version": "3.7.6"
    },
    "colab": {
      "provenance": [],
      "collapsed_sections": [],
      "include_colab_link": true
    }
  },
  "nbformat": 4,
  "nbformat_minor": 0
}