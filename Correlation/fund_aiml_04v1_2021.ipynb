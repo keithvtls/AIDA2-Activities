{
  "nbformat": 4,
  "nbformat_minor": 0,
  "metadata": {
    "colab": {
      "provenance": [],
      "include_colab_link": true
    },
    "kernelspec": {
      "name": "python3",
      "display_name": "Python 3"
    },
    "language_info": {
      "name": "python"
    }
  },
  "cells": [
    {
      "cell_type": "markdown",
      "metadata": {
        "id": "view-in-github",
        "colab_type": "text"
      },
      "source": [
        "<a href=\"https://colab.research.google.com/github/keithvtls/AIDA2-CpE---AIML/blob/main/Correlation/fund_aiml_04v1_2021.ipynb\" target=\"_parent\"><img src=\"https://colab.research.google.com/assets/colab-badge.svg\" alt=\"Open In Colab\"/></a>"
      ]
    },
    {
      "cell_type": "markdown",
      "metadata": {
        "id": "M15k8ZhQPlDx"
      },
      "source": [
        "# Topic 04.1: Regression\n",
        "$_{\\text{©D.J. Lopez | 2021 | Fundamentals of Machine Learning}}$\n",
        "\n",
        "Now we are starting with the core machine learning topics. We will first try be acquainted with supervised learning specifically with statistical learning. In this notebook, we will be discussing the most fundamental algorithm in Data Science and Artificial Intelligence — Regression. Specifically we will cover the following topics:\n",
        "* Linear Regression\n",
        "* Least Squares\n",
        "* Multiple Linear Regression\n"
      ]
    },
    {
      "cell_type": "markdown",
      "metadata": {
        "id": "BsJ2SocbUg1Z"
      },
      "source": [
        "## 4.1 Correlation\n",
        "Before dwelling into regression we must first lay the difference between correlation and causation. Regression specifically talks about the causality or the the cause and effect relationship of variables. Whereas correlation talks about how associated variables are.\n",
        "\n",
        "![img](https://external-content.duckduckgo.com/iu/?u=https%3A%2F%2Fd35fo82fjcw0y8.cloudfront.net%2F2018%2F07%2F05092148%2Fcorrelation-vs-causation-phone-RAM1-1024x574.png&f=1&nofb=1)\n",
        "\n",
        "In this example we can see a distinction from correlation and causation. There will be an association with messages failing to send and the freezing of your phone. You could say something:\n",
        "\n",
        "* A: \"I can't send messages whenever my phone freezes. and conversely:\n",
        "\n",
        "* B: \"My phone froze so I can't send messages.\". \n",
        "\n",
        "A and B still make sense even if we switch up the logic. The statements could be symmetric! But if you try to put into a condition statement or implication it doesn't give much meaning. For example we could say: \n",
        "\n",
        "* C: \"If my phone freezes I can't send messages.\" and\n",
        "\n",
        "* D: \"If I can't send messages, then my phone froze\".\n",
        "\n",
        "Now the two statements does not have same meaning. This is now a perspective of causality. One factor affecting the other. Now not all variables causes the other to happen. There would be times that there is an indirect relationship, and a hidden variable establishes the causality, we call this a **confounding variable**.\n",
        "\n"
      ]
    },
    {
      "cell_type": "markdown",
      "metadata": {
        "id": "FDwPfqBAXoix"
      },
      "source": [
        "### 4.1.1 Covariance\n",
        "\n",
        "Now let's acquainted with another statistic called covariance. The covariance tells us the relationship between variables in datasets. A positive covariance indicates that the varaibles are moving along the same direction or they are directly proportional while negative covariances tell us that these variables have inverse relationships. We can compute the covariance as:\n",
        "\n",
        "$$\\text{Cov}(X,Y) = \\frac{1}{N}\\sum^N_{i=0}(x_i-\\bar{x})(y_i-\\bar{y})\\\\_{\\text{Eq. 4.1}}$$"
      ]
    },
    {
      "cell_type": "code",
      "metadata": {
        "id": "-wrnPm8hph9k"
      },
      "source": [
        "import numpy as np\n",
        "import matplotlib.pyplot as plt\n",
        "import pandas as pd"
      ],
      "execution_count": null,
      "outputs": []
    },
    {
      "cell_type": "code",
      "metadata": {
        "colab": {
          "base_uri": "https://localhost:8080/",
          "height": 320
        },
        "id": "VDZ8_GXrXoXc",
        "outputId": "1b5f13db-bf24-49e5-8fa0-cf3b6d20624e"
      },
      "source": [
        "'''\n",
        "Let's create dummy data showing positive and negative correlations\n",
        "'''\n",
        "def create_corr_data(n,is_neg=False):\n",
        "  inv = -1 if is_neg else 1\n",
        "  X = np.arange(0,n,1,dtype=np.float64) ## features\n",
        "  m = inv*np.random.uniform(0.1,0.3,(n,)) ## weights\n",
        "  b = np.random.uniform(8,10,(n,)) ## biases\n",
        "  y = m*X+b  ## targets\n",
        "  return X,y,m,b\n",
        "\n",
        "n=100\n",
        "X,y,_,_ = create_corr_data(n,is_neg=True)\n",
        "\n",
        "plt.figure(figsize=(5,5))\n",
        "plt.grid()\n",
        "plt.scatter(X,y)\n",
        "plt.show()"
      ],
      "execution_count": null,
      "outputs": [
        {
          "output_type": "display_data",
          "data": {
            "image/png": "[encoded data removed]",
            "text/plain": [
              "<Figure size 360x360 with 1 Axes>"
            ]
          },
          "metadata": {
            "needs_background": "light"
          }
        }
      ]
    },
    {
      "cell_type": "code",
      "metadata": {
        "colab": {
          "base_uri": "https://localhost:8080/",
          "height": 337
        },
        "id": "vT7pRMLycr7b",
        "outputId": "db99ccb5-ca88-48a5-ca0e-26274275be60"
      },
      "source": [
        "## Coding covariances\n",
        "\n",
        "### Prepare the dataset\n",
        "n=50\n",
        "X,y,_,_ = create_corr_data(n,is_neg=True)\n",
        "## take the means of X and Y\n",
        "x_bar = X.mean()\n",
        "y_bar = y.mean()\n",
        "\n",
        "## get the difference for each data point from their means\n",
        "sst_x = X-x_bar\n",
        "sst_y = y-y_bar\n",
        "\n",
        "## compute for the covariance by Eq. 4.1\n",
        "cov = np.mean(sst_x*sst_y)\n",
        "\n",
        "plt.figure(figsize=(5,5))\n",
        "plt.grid()\n",
        "plt.scatter(X,y)\n",
        "plt.show()\n",
        "print(f'Covariance is: {cov}')\n",
        "\n",
        "## Try to create a cov function that will dynamically ask users for two datasets"
      ],
      "execution_count": null,
      "outputs": [
        {
          "output_type": "display_data",
          "data": {
            "image/png": "[encoded data removed]",
            "text/plain": [
              "<Figure size 360x360 with 1 Axes>"
            ]
          },
          "metadata": {
            "needs_background": "light"
          }
        },
        {
          "output_type": "stream",
          "name": "stdout",
          "text": [
            "Covariance is: -42.06674471152216\n"
          ]
        }
      ]
    },
    {
      "cell_type": "markdown",
      "metadata": {
        "id": "Ey_h3cbjidZT"
      },
      "source": [
        "#### Variance-Covariance Matrix\n",
        "\n",
        "Another useful matrix in statistics is the Variance-covariance matrix. This matrix shows the dispersion of each variable. It is easier to remember the format of the matrix as:\n",
        "$$\\begin{bmatrix} \\text{Cov}(X,X) & \\text{Cov}(X,y) \\\\\n",
        "\\text{Cov}(y,X) & \\text{Cov}(y,y) \\end{bmatrix}$$\n",
        "\n",
        "For brevity it can be formally expressed as:\n",
        "$$\\begin{bmatrix} \\sigma^2_X & \\text{Cov}(X,y) \\\\\n",
        "\\text{Cov}(y,X) & \\sigma^2_y\\end{bmatrix}$$"
      ]
    },
    {
      "cell_type": "code",
      "metadata": {
        "colab": {
          "base_uri": "https://localhost:8080/"
        },
        "id": "HhOmrqLjhrX7",
        "outputId": "7f6846bb-448d-4074-8a7a-429a2787ba6b"
      },
      "source": [
        "## To get the covairance matrix we use np.cov\n",
        "cov_mat = np.cov(X,y, bias=True) ## we tick the bias since we used a bias term\n",
        "\n",
        "## We can then take cov(x,y) at the (0,1) position of a covariance matrix\n",
        "cov_mat[0,1]"
      ],
      "execution_count": null,
      "outputs": [
        {
          "output_type": "execute_result",
          "data": {
            "text/plain": [
              "-44.10579524122141"
            ]
          },
          "metadata": {},
          "execution_count": 8
        }
      ]
    },
    {
      "cell_type": "markdown",
      "metadata": {
        "id": "WTOeq2kwX35Z"
      },
      "source": [
        "### 4.1.2 Pearson Correlation\n",
        "Another measure of relationship of datasets is the Pearson Correlation Coefficient or Pearson's R. Pearson's R is specifically a measure of linear correlation between data. It can be interpreted as the ratio between the covariances of the two variables and the product of their standard deviations.\n",
        "$$r_{X,y} = \\frac{\\text{Cov(X,y)}}{\\sigma_X \\sigma_y} \\\\_{\\text{Eq. 4.2}}$$"
      ]
    },
    {
      "cell_type": "code",
      "metadata": {
        "colab": {
          "base_uri": "https://localhost:8080/"
        },
        "id": "5MV3YbJyhdMD",
        "outputId": "b5f6a20f-cb7a-4682-ba63-5976a1b3e342"
      },
      "source": [
        "### Obtain a dataset\n",
        "n=100\n",
        "X,y,_,_ = create_corr_data(n,is_neg=False)\n",
        "\n",
        "## Compute for cov(x,y)\n",
        "cov_xy = np.cov(X,y, bias=True)[0,1]\n",
        "\n",
        "## Get the st.dev of X and y\n",
        "std_X = np.std(X)\n",
        "std_y = np.std(y)\n",
        "\n",
        "## Compute for Pearson's R\n",
        "R = cov_xy / (std_X*std_y)\n",
        "R"
      ],
      "execution_count": null,
      "outputs": [
        {
          "output_type": "execute_result",
          "data": {
            "text/plain": [
              "0.8767077425238944"
            ]
          },
          "metadata": {},
          "execution_count": 9
        }
      ]
    },
    {
      "cell_type": "markdown",
      "metadata": {
        "id": "Rl_GtK2bmuzI"
      },
      "source": [
        "Now you might wonder if you would use `np.corrcoeff()` it will be a different value. This is because we are using the general  form of Pearson's R for population. NumPy uses are more stable and more adaptable for samples. We will not cover it in this notebook but you if you want to know more you can read futher [here](http://statisticslectures.com/topics/pearsonr/).\n",
        "\n",
        "$$\\omega_1 = r\\frac{\\sigma_y}{\\sigma_x}=\\frac{\\bar{y}*\\sum(x_i^2)-\\bar{x}\\sum(x_i*y_i)}{\\sum(x^2_i-n\\bar{x}^2)}\\\\ _{\\text{(Eq. 4.2.1)}}$$\n",
        "$$\\omega_0 =\\bar{y}-\\omega_1\\bar{x}= \\frac{\\sum(x_i*y_i)-\\bar{x}\\sum(y_i)}{\\sum(x^2_i-n\\bar{x}^2)}\\\\ _{\\text{(Eq. 4.2.2)}}$$\n",
        "\n",
        "Whereas $r$ is the Pearson correlation solved as:\n",
        "$$r = \\frac{\\sum((x-\\bar{x})(y-\\bar{y}))}{\\sqrt{\\sum(x-\\bar{x})\\sum(y-\\bar{y})}}\\\\ _{\\text{(Eq. 4.2.3)}}$$"
      ]
    },
    {
      "cell_type": "code",
      "metadata": {
        "colab": {
          "base_uri": "https://localhost:8080/"
        },
        "id": "EFpT_POmleB7",
        "outputId": "ba25eb43-c586-4c23-e23f-8074bd8866c3"
      },
      "source": [
        "np.corrcoef(X,y)"
      ],
      "execution_count": null,
      "outputs": [
        {
          "output_type": "execute_result",
          "data": {
            "text/plain": [
              "array([[1.        , 0.87670774],\n",
              "       [0.87670774, 1.        ]])"
            ]
          },
          "metadata": {},
          "execution_count": 10
        }
      ]
    },
    {
      "cell_type": "markdown",
      "metadata": {
        "id": "w-edqPInQngp"
      },
      "source": [
        "## 4.2 Linear Regression\n",
        "As the name suggests, linear regression tries to find the best fit straight line to a given dataset. This algorithm is one of the simplest yet most important alogorithm in regression since it is the foundation of many more complex regression techniques.\n",
        "\n",
        "The goal of this algorithm is finding a linear equation that would best describe a set of data. The equation to be used in finding that linear equation is function is given as:\n",
        "$$y = \\omega_0 + \\omega_1 X \\\\ _{\\text{Eq. 4.3}}$$\n",
        "\n",
        "Whereas $X$ is the dataset while $y$ is the corresponding values for each datapoint in $X$. The variable $\\omega$ is called the weight of the dataset consiting of $\\omega_0$ and $\\omega_1$. In other literature, $\\omega_0$ is called the bias term sometimes written as $b$. The following equations are used to solve for $\\omega_0$ and $\\omega_1$:\n",
        "$$\\omega_1 = r\\frac{\\sigma_y}{\\sigma_x}\\\\ _{\\text{Eq. 4.3.1}}$$\n",
        "$$\\omega_0 =\\bar{y}-\\omega_1\\bar{x}\\\\ _{\\text{Eq. 4.3.2}}$$"
      ]
    },
    {
      "cell_type": "code",
      "metadata": {
        "colab": {
          "base_uri": "https://localhost:8080/"
        },
        "id": "YGtgNR3CPZrW",
        "outputId": "3d2dc1a9-b1aa-48bb-9630-d09ae4f360d9"
      },
      "source": [
        "## Create a dataset\n",
        "n=10\n",
        "X,y,m,b = create_corr_data(n,is_neg=False)\n",
        "w1_th = m.mean()\n",
        "w0_th = b.mean()\n",
        "## Compute for the std.dev of X and y\n",
        "std_X, std_y = np.std(X), np.std(y)\n",
        "\n",
        "## Compute for Pearson's R\n",
        "rho = np.corrcoef(X,y)[0,1]\n",
        "\n",
        "## Compute for the weights of the bias term\n",
        "w1 = rho*(std_y/std_X)\n",
        "\n",
        "## Compute for the weights of the feature\n",
        "w0 = y.mean()-w1*X.mean()\n",
        "\n",
        "print(f\"Computed w0 is {w0}, theoretical @ {w0_th}\")\n",
        "print(f\"Computed w1 is {w1}, theoretical @ {w1_th}\")\n",
        "print(f\"Equation: y = {w1} X + {w0}\")"
      ],
      "execution_count": null,
      "outputs": [
        {
          "output_type": "stream",
          "name": "stdout",
          "text": [
            "Computed w0 is 8.641885635939301, theoretical @ 8.920615480030317\n",
            "Computed w1 is 0.2829584607937579, theoretical @ 0.21021944791155728\n",
            "Equation: y = 0.2829584607937579 X + 8.641885635939301\n"
          ]
        }
      ]
    },
    {
      "cell_type": "code",
      "metadata": {
        "colab": {
          "base_uri": "https://localhost:8080/"
        },
        "id": "HSfL2t0J8jGI",
        "outputId": "03269b6c-6b98-421b-9daa-c3bc4e60f4f8"
      },
      "source": [
        "X"
      ],
      "execution_count": null,
      "outputs": [
        {
          "output_type": "execute_result",
          "data": {
            "text/plain": [
              "array([0., 1., 2., 3., 4., 5., 6., 7., 8., 9.])"
            ]
          },
          "metadata": {},
          "execution_count": 15
        }
      ]
    },
    {
      "cell_type": "code",
      "metadata": {
        "colab": {
          "base_uri": "https://localhost:8080/",
          "height": 320
        },
        "id": "og6t1wcX8RRk",
        "outputId": "9d5dbf3a-c2c6-489a-d32f-dc8dd17fac10"
      },
      "source": [
        "model = w0 + w1*X\n",
        "plt.figure(figsize=(5,5))\n",
        "plt.grid()\n",
        "plt.scatter(X,y)\n",
        "plt.plot(X, model)\n",
        "plt.show()"
      ],
      "execution_count": null,
      "outputs": [
        {
          "output_type": "display_data",
          "data": {
            "image/png": "[encoded data removed]",
            "text/plain": [
              "<Figure size 360x360 with 1 Axes>"
            ]
          },
          "metadata": {
            "needs_background": "light"
          }
        }
      ]
    },
    {
      "cell_type": "code",
      "metadata": {
        "colab": {
          "base_uri": "https://localhost:8080/"
        },
        "id": "8G7wcmXH8v8w",
        "outputId": "ade9ef30-468b-4893-da0e-337e31bdc0ba"
      },
      "source": [
        "def predict(w0,w1,x):\n",
        "  return w0+w1*x\n",
        "predict(w0,w1,20)"
      ],
      "execution_count": null,
      "outputs": [
        {
          "output_type": "execute_result",
          "data": {
            "text/plain": [
              "14.30105485181446"
            ]
          },
          "metadata": {},
          "execution_count": 17
        }
      ]
    },
    {
      "cell_type": "code",
      "metadata": {
        "id": "H1rY9VD-sjLe"
      },
      "source": [
        "from sklearn.linear_model import LinearRegression"
      ],
      "execution_count": null,
      "outputs": []
    },
    {
      "cell_type": "code",
      "metadata": {
        "colab": {
          "base_uri": "https://localhost:8080/"
        },
        "id": "3DgG7g_bswg0",
        "outputId": "e88bee7c-df45-4fdd-89b2-57351b4ea7e3"
      },
      "source": [
        "model = LinearRegression()\n",
        "model.fit(X.reshape(-1,1),y.reshape(-1,1))\n",
        "print(f\"Weight of the feature is {model.coef_[0]}\")\n",
        "print(f\"Bias of the model is {model.intercept_}\")\n",
        "print(f\"Equation: y = {model.coef_[0]} X + {model.intercept_}\")"
      ],
      "execution_count": null,
      "outputs": [
        {
          "output_type": "stream",
          "name": "stdout",
          "text": [
            "Weight of the feature is [0.28295846]\n",
            "Bias of the model is [8.64188564]\n",
            "Equation: y = [0.28295846] X + [8.64188564]\n"
          ]
        }
      ]
    },
    {
      "cell_type": "markdown",
      "metadata": {
        "id": "NigYFzkv8kxx"
      },
      "source": [
        "### Metrics\n",
        "Like any machine learning models we must determine their level of acceptance through measurements. The succeeding sections will cover on how to determine the error and accuracy of regression models"
      ]
    },
    {
      "cell_type": "markdown",
      "metadata": {
        "id": "5FXcYTDk8qrS"
      },
      "source": [
        "#### **Measures of Error**\n",
        "Error or losses are computed to determine the robustness of a model to certain dataset. There are several ways to compute the error some of them are:\n",
        "* Sum of Squares Total\n",
        "* Sum of Squares Regression\n",
        "* Sum of Squares Error\n",
        "* Mean Squared Error\n",
        "* Mean Absolute Error\n",
        "* Mean Abosulute Percentage Error"
      ]
    },
    {
      "cell_type": "markdown",
      "metadata": {
        "id": "6i7NHjfE-TqC"
      },
      "source": [
        "##### *Sum of Squares Total*\n",
        "The Sum of Squares Total or SST is a measure of the variability of dataset it is computed by:\n",
        "$$SST = \\sum_{i=0}^n(y_i-\\bar{y})^2 \\\\_\\text{Eq.4.3.3}$$"
      ]
    },
    {
      "cell_type": "code",
      "metadata": {
        "id": "fO6hdbAO-TKD"
      },
      "source": [
        "def SST(y):\n",
        "  return np.sum(np.square(y-y.mean()))"
      ],
      "execution_count": null,
      "outputs": []
    },
    {
      "cell_type": "markdown",
      "metadata": {
        "id": "oeODV2fa_3uJ"
      },
      "source": [
        "##### *Sum of Squares Regression*\n",
        "The Sum of Squares Regression or SSR is a measure of the variability of the model it is computed by:\n",
        "$$SSR = \\sum_{i=0}^n(\\hat{y_i}-\\bar{y})^2 \\\\_\\text{Eq.4.3.4}$$"
      ]
    },
    {
      "cell_type": "code",
      "metadata": {
        "id": "qLOR-J0n-fFy"
      },
      "source": [
        "def SSR(y,y_hat):\n",
        "  return np.sum(np.square(y_hat-y.mean()))"
      ],
      "execution_count": null,
      "outputs": []
    },
    {
      "cell_type": "markdown",
      "metadata": {
        "id": "VC9goqdkAUs5"
      },
      "source": [
        "##### *Sum of Squares Error*\n",
        "The Sum of Squares Regression or SSE is a measure of the variability of the model with respect to the residuals or its deviation from the ground truths, it is computed by:\n",
        "$$SSE = \\sum_{i=0}^n(\\hat{y_i}-y_i)^2 \\\\_\\text{Eq.4.3.5}$$"
      ]
    },
    {
      "cell_type": "code",
      "metadata": {
        "id": "jaaJLXVz_TzC"
      },
      "source": [
        "def SSE(y,y_hat):\n",
        "  return np.sum(np.square(y_hat-y))"
      ],
      "execution_count": null,
      "outputs": []
    },
    {
      "cell_type": "markdown",
      "metadata": {
        "id": "9XGq7UTpBRgR"
      },
      "source": [
        "##### *Mean of Squared Error*\n",
        "The Mean Squared Error or MSE the name suggests it is the mean of the squared errors or SSE. It is the average error of a model. It is computed as:\n",
        "$$MSE = \\frac{1}{n}\\sum_{i=0}^n(\\hat{y_i}-y_i)^2 \\\\_\\text{Eq.4.3.6}$$"
      ]
    },
    {
      "cell_type": "code",
      "metadata": {
        "id": "MbU9LLTwAcXC"
      },
      "source": [
        "def MSE(y,y_hat):\n",
        "  return np.mean(np.square(y_hat-y))"
      ],
      "execution_count": null,
      "outputs": []
    },
    {
      "cell_type": "markdown",
      "metadata": {
        "id": "y8MhMECmB3s5"
      },
      "source": [
        "##### *Mean of Absolute Error*\n",
        "The Mean Absolute Error or MAE, is another error measurement between the model and the ground truths but uses the Manhattan distance instead of the Euclidean distance from SSE.\n",
        "$$MAE = \\frac{1}{n}\\sum_{i=0}^n|\\hat{y_i}-y_i| \\\\_\\text{Eq.4.3.7}$$"
      ]
    },
    {
      "cell_type": "code",
      "metadata": {
        "id": "PvBUHM9-BuHz"
      },
      "source": [
        "def MAE(y,y_hat):\n",
        "  return np.mean(np.abs(y_hat-y))"
      ],
      "execution_count": null,
      "outputs": []
    },
    {
      "cell_type": "markdown",
      "metadata": {
        "id": "wtxZTA_HCk8J"
      },
      "source": [
        "##### *Mean of Absolute Percentage Error*\n",
        "The Mean Absolute Percentage Error or MAPE, is another error measurement derived from MAE but this time the error normalized. It is computed as:\n",
        "$$MAPE = \\frac{100\\%}{n}\\sum_{i=0}^n|\\frac{\\hat{y_i}-y_i}{y_i}| \\\\_\\text{Eq.4.3.8}$$"
      ]
    },
    {
      "cell_type": "code",
      "metadata": {
        "id": "WtnOqag8CY8x"
      },
      "source": [
        "def MAPE(y,y_hat):\n",
        "  return 100*np.mean(np.abs((y_hat-y)/y))"
      ],
      "execution_count": null,
      "outputs": []
    },
    {
      "cell_type": "markdown",
      "metadata": {
        "id": "HY_cEapgDR3a"
      },
      "source": [
        "##### *Root Mean Squared Error*\n",
        "The Root Mean Squared Error or RMSE, is the root of the RMSE which brings it back to its actual unit. It is computed as:\n",
        "$$RMSE = \\sqrt{\\frac{1}{n}\\sum_{i=0}^n(\\hat{y_i}-y_i)^2} \\\\_\\text{Eq.4.3.9}$$"
      ]
    },
    {
      "cell_type": "markdown",
      "metadata": {
        "id": "lr88swia8uQR"
      },
      "source": [
        "#### Measures Accuracy\n",
        "We measure the accuracy of the regression through its explainability. We measure it through the R-squared or the Adjusted R-squared."
      ]
    },
    {
      "cell_type": "markdown",
      "metadata": {
        "id": "928QePzBD-GC"
      },
      "source": [
        "#### *R-squared*\n",
        "The R-squared is a statistical measurement also known as the coefficient of determination wherein it shows the explanatory power of the variables used in the model. It is computed by:\n",
        "\n",
        "$$R^2 = 1 - \\frac{SSE}{SST}\\\\_\\text{Eq.4.3.10}$$\n"
      ]
    },
    {
      "cell_type": "markdown",
      "metadata": {
        "id": "LDscohAmFr75"
      },
      "source": [
        "#### *Adjusted R-squared*\n",
        "The Adjusted R-squared is another statistical measurement for detemrinign the explanatory power of a model. Unlike, R-squared it is adjusted accordingly to the total datapoints and the features involved in the computation. It is computed by:\n",
        "\n",
        "$$Adj. R^2 = 1 - \\frac{SSE}{SST}\\cdot \\frac{n-1}{n-k-1} = 1 - \\frac{(1-R^2)(n-1)}{n-k-1}\\\\_\\text{Eq.4.3.10}$$\n",
        "\n",
        "Whereas $n$ is the total number of datapoints in the dataset and $k$ is the total number of features to be used in the regression."
      ]
    },
    {
      "cell_type": "markdown",
      "metadata": {
        "id": "Ic07c675j3nr"
      },
      "source": [
        "## 4.3 Least Squares\n",
        "The least squares method is an optimization alogrithm in finding the best fit line for a given dataset. Just like with any numerical technique it utilizes iterations to mimimize the error.\n"
      ]
    },
    {
      "cell_type": "markdown",
      "metadata": {
        "id": "uCWxTwZRoliq"
      },
      "source": [
        "### 4.3.1 Iteration Method\n",
        "The main idea of the iteration method is to iteratively fit a line to the dataset. We tend to guess iteratively whether the line we are fitting is right. With this we can call the line the we are going to fit as the hypothesis or $h_\\theta$ we can then compute the $h_\\theta$ for this linear regression problem as:\n",
        "$$h_\\theta = \\theta X+b \\\\_\\text{Eq.4.4.1}$$\n",
        "Whereas $X$ is the feature vector, $b$ is the bias vector, and $\\theta$ is the weight vector  of the features. We then determine whether our hypothesis is correct by determining its error. Its error is determined by the Sum of Squared Error or SSE. We compute the SSE as the sum of the distances of each hypothesis $h_\\theta$ to the target $y$. We denote the SSE as the loss function of this optimization problem, we denote it as $J(\\theta)$.\n",
        "$$J(\\theta) =  \\sum(h_\\theta - y)^2\\\\_\\text{Eq.4.4.2}$$\n",
        "We then delare the optimization goal for this problem as to minimize the loss function:\n",
        "$$\\min(J)\\\\_\\text{Eq.4.4.3}$$"
      ]
    },
    {
      "cell_type": "code",
      "metadata": {
        "id": "d2DRFpdPnqxx"
      },
      "source": [
        "## Create a Dataset\n",
        "n=30\n",
        "X,y,_,_ = create_corr_data(n,is_neg=False)"
      ],
      "execution_count": null,
      "outputs": []
    },
    {
      "cell_type": "code",
      "metadata": {
        "colab": {
          "base_uri": "https://localhost:8080/",
          "height": 337
        },
        "id": "vIJuX50Fseir",
        "outputId": "3ed0c997-7826-4b5d-ea85-0198b17134ab"
      },
      "source": [
        "plt.figure(figsize=(5,5))\n",
        "plt.grid()\n",
        "plt.scatter(X,y)"
      ],
      "execution_count": null,
      "outputs": [
        {
          "output_type": "execute_result",
          "data": {
            "text/plain": [
              "<matplotlib.collections.PathCollection at 0x7f0701567950>"
            ]
          },
          "metadata": {},
          "execution_count": 21
        },
        {
          "output_type": "display_data",
          "data": {
            "image/png": "[encoded data removed]",
            "text/plain": [
              "<Figure size 360x360 with 1 Axes>"
            ]
          },
          "metadata": {
            "needs_background": "light"
          }
        }
      ]
    },
    {
      "cell_type": "code",
      "metadata": {
        "id": "AjODWrXFvZ8p"
      },
      "source": [
        "## Modelling optimization routine using first iteration\n",
        "## initialize optimization variables\n",
        "def init_linear_reg(X,y):\n",
        "  theta = 0 ##angle is 0\n",
        "  b = 8.6\n",
        "  h = theta*X + b\n",
        "  return theta,b, h\n",
        "theta, b, h = init_linear_reg(X,y)"
      ],
      "execution_count": null,
      "outputs": []
    },
    {
      "cell_type": "code",
      "metadata": {
        "colab": {
          "base_uri": "https://localhost:8080/"
        },
        "id": "IBfyeqwxvv2U",
        "outputId": "de8eddb0-c0b5-4745-ad95-06e3e85d878f"
      },
      "source": [
        "def SSE(h,y):\n",
        "  return np.sum(np.square(h-y))\n",
        "J = SSE(h,y)\n",
        "J"
      ],
      "execution_count": null,
      "outputs": [
        {
          "output_type": "execute_result",
          "data": {
            "text/plain": [
              "444.879634591828"
            ]
          },
          "metadata": {},
          "execution_count": 28
        }
      ]
    },
    {
      "cell_type": "code",
      "metadata": {
        "colab": {
          "base_uri": "https://localhost:8080/",
          "height": 351
        },
        "id": "nvobahcQwAvp",
        "outputId": "78932120-45f3-430d-e420-f3967f85c55b"
      },
      "source": [
        "def disp_hypothesis(X,y,h,loss,iter):\n",
        "  plt.figure(figsize=(5,5))\n",
        "  plt.title(f\"Least Squares \\n Iteration: {iter} | Loss @ {round(loss,3)}\")\n",
        "  plt.grid()\n",
        "  plt.scatter(X,y)\n",
        "  plt.plot(h, color='red', label='hypothesis')\n",
        "  plt.legend()\n",
        "  plt.show()\n",
        "disp_hypothesis(X,y,h,J,0)"
      ],
      "execution_count": null,
      "outputs": [
        {
          "output_type": "display_data",
          "data": {
            "image/png": "[encoded data removed]",
            "text/plain": [
              "<Figure size 360x360 with 1 Axes>"
            ]
          },
          "metadata": {
            "needs_background": "light"
          }
        }
      ]
    },
    {
      "cell_type": "code",
      "metadata": {
        "id": "8YCBalUQwHr6"
      },
      "source": [
        "## Design the optimization iterations\n",
        "### set the range and steps\n",
        "min, max = -100, 100\n",
        "steps = 1\n",
        "iters = np.arange(min,max+steps,steps)\n",
        "\n",
        "### do a sanity check for the loop\n",
        "# for iter in iters:\n",
        "#   print(iter)"
      ],
      "execution_count": null,
      "outputs": []
    },
    {
      "cell_type": "code",
      "metadata": {
        "id": "E_OPB4gTxkZb",
        "colab": {
          "base_uri": "https://localhost:8080/"
        },
        "outputId": "e8a8af31-5197-4926-fee3-5a686d7a140f"
      },
      "source": [
        "## initialize the optimization routing\n",
        "print(\"[INFO] Initializing Linear Regression parameters...\")\n",
        "theta, b, h = init_linear_reg(X,y)\n",
        "print(\"[INFO] Initialization done!\")\n",
        "\n",
        "## create logs for optimization backtracking\n",
        "history = {\n",
        "    'epoch': [],\n",
        "    'theta': [],\n",
        "    'model': [],\n",
        "    'loss': []\n",
        "}\n",
        "print(\"[INFO] Starting optimzation...\")\n",
        "for iter in iters:\n",
        "  ## set the angle as the normalized ratio of the iter to max\n",
        "  theta = iter/max\n",
        "  ## compute for the hypothesis\n",
        "  h = theta*X + b\n",
        "  ## compute for the loss\n",
        "  J = SSE(h,y)\n",
        "\n",
        "  ## log the changes\n",
        "  history['epoch'].append(iter)\n",
        "  history['theta'].append(theta)\n",
        "  history['model'].append(h)\n",
        "  history['loss'].append(J)\n",
        "  print(f\"[INFO] Epoch {iter} | Loss: {J}\")"
      ],
      "execution_count": null,
      "outputs": [
        {
          "output_type": "stream",
          "name": "stdout",
          "text": [
            "[INFO] Initializing Linear Regression parameters...\n",
            "[INFO] Initialization done!\n",
            "[INFO] Starting optimzation...\n",
            "[INFO] Epoch -100 | Loss: 12665.077464133412\n",
            "[INFO] Epoch -99 | Loss: 12458.180985837998\n",
            "[INFO] Epoch -98 | Loss: 12252.995507542582\n",
            "[INFO] Epoch -97 | Loss: 12049.521029247166\n",
            "[INFO] Epoch -96 | Loss: 11847.757550951752\n",
            "[INFO] Epoch -95 | Loss: 11647.705072656334\n",
            "[INFO] Epoch -94 | Loss: 11449.363594360917\n",
            "[INFO] Epoch -93 | Loss: 11252.733116065503\n",
            "[INFO] Epoch -92 | Loss: 11057.813637770088\n",
            "[INFO] Epoch -91 | Loss: 10864.605159474671\n",
            "[INFO] Epoch -90 | Loss: 10673.107681179254\n",
            "[INFO] Epoch -89 | Loss: 10483.321202883839\n",
            "[INFO] Epoch -88 | Loss: 10295.245724588423\n",
            "[INFO] Epoch -87 | Loss: 10108.881246293007\n",
            "[INFO] Epoch -86 | Loss: 9924.227767997592\n",
            "[INFO] Epoch -85 | Loss: 9741.285289702177\n",
            "[INFO] Epoch -84 | Loss: 9560.05381140676\n",
            "[INFO] Epoch -83 | Loss: 9380.533333111343\n",
            "[INFO] Epoch -82 | Loss: 9202.723854815928\n",
            "[INFO] Epoch -81 | Loss: 9026.625376520513\n",
            "[INFO] Epoch -80 | Loss: 8852.237898225098\n",
            "[INFO] Epoch -79 | Loss: 8679.561419929682\n",
            "[INFO] Epoch -78 | Loss: 8508.595941634267\n",
            "[INFO] Epoch -77 | Loss: 8339.34146333885\n",
            "[INFO] Epoch -76 | Loss: 8171.797985043434\n",
            "[INFO] Epoch -75 | Loss: 8005.965506748019\n",
            "[INFO] Epoch -74 | Loss: 7841.8440284526005\n",
            "[INFO] Epoch -73 | Loss: 7679.433550157186\n",
            "[INFO] Epoch -72 | Loss: 7518.73407186177\n",
            "[INFO] Epoch -71 | Loss: 7359.745593566355\n",
            "[INFO] Epoch -70 | Loss: 7202.468115270938\n",
            "[INFO] Epoch -69 | Loss: 7046.901636975522\n",
            "[INFO] Epoch -68 | Loss: 6893.046158680108\n",
            "[INFO] Epoch -67 | Loss: 6740.901680384691\n",
            "[INFO] Epoch -66 | Loss: 6590.468202089276\n",
            "[INFO] Epoch -65 | Loss: 6441.745723793859\n",
            "[INFO] Epoch -64 | Loss: 6294.734245498445\n",
            "[INFO] Epoch -63 | Loss: 6149.433767203028\n",
            "[INFO] Epoch -62 | Loss: 6005.844288907611\n",
            "[INFO] Epoch -61 | Loss: 5863.965810612196\n",
            "[INFO] Epoch -60 | Loss: 5723.798332316778\n",
            "[INFO] Epoch -59 | Loss: 5585.341854021363\n",
            "[INFO] Epoch -58 | Loss: 5448.596375725949\n",
            "[INFO] Epoch -57 | Loss: 5313.561897430531\n",
            "[INFO] Epoch -56 | Loss: 5180.2384191351175\n",
            "[INFO] Epoch -55 | Loss: 5048.625940839701\n",
            "[INFO] Epoch -54 | Loss: 4918.724462544285\n",
            "[INFO] Epoch -53 | Loss: 4790.533984248869\n",
            "[INFO] Epoch -52 | Loss: 4664.054505953453\n",
            "[INFO] Epoch -51 | Loss: 4539.286027658037\n",
            "[INFO] Epoch -50 | Loss: 4416.228549362621\n",
            "[INFO] Epoch -49 | Loss: 4294.882071067204\n",
            "[INFO] Epoch -48 | Loss: 4175.246592771789\n",
            "[INFO] Epoch -47 | Loss: 4057.3221144763734\n",
            "[INFO] Epoch -46 | Loss: 3941.1086361809585\n",
            "[INFO] Epoch -45 | Loss: 3826.606157885542\n",
            "[INFO] Epoch -44 | Loss: 3713.814679590126\n",
            "[INFO] Epoch -43 | Loss: 3602.7342012947106\n",
            "[INFO] Epoch -42 | Loss: 3493.364722999294\n",
            "[INFO] Epoch -41 | Loss: 3385.706244703879\n",
            "[INFO] Epoch -40 | Loss: 3279.758766408462\n",
            "[INFO] Epoch -39 | Loss: 3175.522288113047\n",
            "[INFO] Epoch -38 | Loss: 3072.996809817631\n",
            "[INFO] Epoch -37 | Loss: 2972.1823315222155\n",
            "[INFO] Epoch -36 | Loss: 2873.078853226799\n",
            "[INFO] Epoch -35 | Loss: 2775.686374931383\n",
            "[INFO] Epoch -34 | Loss: 2680.0048966359673\n",
            "[INFO] Epoch -33 | Loss: 2586.0344183405523\n",
            "[INFO] Epoch -32 | Loss: 2493.7749400451357\n",
            "[INFO] Epoch -31 | Loss: 2403.22646174972\n",
            "[INFO] Epoch -30 | Loss: 2314.388983454304\n",
            "[INFO] Epoch -29 | Loss: 2227.262505158888\n",
            "[INFO] Epoch -28 | Loss: 2141.8470268634724\n",
            "[INFO] Epoch -27 | Loss: 2058.142548568056\n",
            "[INFO] Epoch -26 | Loss: 1976.1490702726405\n",
            "[INFO] Epoch -25 | Loss: 1895.8665919772245\n",
            "[INFO] Epoch -24 | Loss: 1817.2951136818085\n",
            "[INFO] Epoch -23 | Loss: 1740.4346353863928\n",
            "[INFO] Epoch -22 | Loss: 1665.285157090977\n",
            "[INFO] Epoch -21 | Loss: 1591.8466787955613\n",
            "[INFO] Epoch -20 | Loss: 1520.1192005001453\n",
            "[INFO] Epoch -19 | Loss: 1450.1027222047294\n",
            "[INFO] Epoch -18 | Loss: 1381.797243909314\n",
            "[INFO] Epoch -17 | Loss: 1315.202765613898\n",
            "[INFO] Epoch -16 | Loss: 1250.3192873184819\n",
            "[INFO] Epoch -15 | Loss: 1187.1468090230658\n",
            "[INFO] Epoch -14 | Loss: 1125.6853307276501\n",
            "[INFO] Epoch -13 | Loss: 1065.9348524322343\n",
            "[INFO] Epoch -12 | Loss: 1007.8953741368182\n",
            "[INFO] Epoch -11 | Loss: 951.5668958414026\n",
            "[INFO] Epoch -10 | Loss: 896.9494175459865\n",
            "[INFO] Epoch -9 | Loss: 844.0429392505708\n",
            "[INFO] Epoch -8 | Loss: 792.8474609551548\n",
            "[INFO] Epoch -7 | Loss: 743.3629826597391\n",
            "[INFO] Epoch -6 | Loss: 695.5895043643231\n",
            "[INFO] Epoch -5 | Loss: 649.5270260689074\n",
            "[INFO] Epoch -4 | Loss: 605.1755477734915\n",
            "[INFO] Epoch -3 | Loss: 562.5350694780755\n",
            "[INFO] Epoch -2 | Loss: 521.6055911826597\n",
            "[INFO] Epoch -1 | Loss: 482.3871128872439\n",
            "[INFO] Epoch 0 | Loss: 444.879634591828\n",
            "[INFO] Epoch 1 | Loss: 409.0831562964122\n",
            "[INFO] Epoch 2 | Loss: 374.9976780009962\n",
            "[INFO] Epoch 3 | Loss: 342.62319970558036\n",
            "[INFO] Epoch 4 | Loss: 311.95972141016455\n",
            "[INFO] Epoch 5 | Loss: 283.0072431147487\n",
            "[INFO] Epoch 6 | Loss: 255.76576481933282\n",
            "[INFO] Epoch 7 | Loss: 230.23528652391695\n",
            "[INFO] Epoch 8 | Loss: 206.41580822850108\n",
            "[INFO] Epoch 9 | Loss: 184.3073299330852\n",
            "[INFO] Epoch 10 | Loss: 163.90985163766933\n",
            "[INFO] Epoch 11 | Loss: 145.22337334225352\n",
            "[INFO] Epoch 12 | Loss: 128.24789504683767\n",
            "[INFO] Epoch 13 | Loss: 112.98341675142177\n",
            "[INFO] Epoch 14 | Loss: 99.42993845600594\n",
            "[INFO] Epoch 15 | Loss: 87.58746016059008\n",
            "[INFO] Epoch 16 | Loss: 77.4559818651742\n",
            "[INFO] Epoch 17 | Loss: 69.03550356975835\n",
            "[INFO] Epoch 18 | Loss: 62.326025274342484\n",
            "[INFO] Epoch 19 | Loss: 57.3275469789266\n",
            "[INFO] Epoch 20 | Loss: 54.04006868351074\n",
            "[INFO] Epoch 21 | Loss: 52.46359038809488\n",
            "[INFO] Epoch 22 | Loss: 52.598112092679024\n",
            "[INFO] Epoch 23 | Loss: 54.44363379726316\n",
            "[INFO] Epoch 24 | Loss: 58.000155501847274\n",
            "[INFO] Epoch 25 | Loss: 63.267677206431436\n",
            "[INFO] Epoch 26 | Loss: 70.2461989110156\n",
            "[INFO] Epoch 27 | Loss: 78.9357206155997\n",
            "[INFO] Epoch 28 | Loss: 89.33624232018384\n",
            "[INFO] Epoch 29 | Loss: 101.44776402476793\n",
            "[INFO] Epoch 30 | Loss: 115.27028572935211\n",
            "[INFO] Epoch 31 | Loss: 130.80380743393627\n",
            "[INFO] Epoch 32 | Loss: 148.04832913852044\n",
            "[INFO] Epoch 33 | Loss: 167.0038508431046\n",
            "[INFO] Epoch 34 | Loss: 187.67037254768871\n",
            "[INFO] Epoch 35 | Loss: 210.04789425227278\n",
            "[INFO] Epoch 36 | Loss: 234.1364159568569\n",
            "[INFO] Epoch 37 | Loss: 259.9359376614411\n",
            "[INFO] Epoch 38 | Loss: 287.4464593660252\n",
            "[INFO] Epoch 39 | Loss: 316.66798107060947\n",
            "[INFO] Epoch 40 | Loss: 347.6005027751936\n",
            "[INFO] Epoch 41 | Loss: 380.2440244797776\n",
            "[INFO] Epoch 42 | Loss: 414.5985461843618\n",
            "[INFO] Epoch 43 | Loss: 450.66406788894597\n",
            "[INFO] Epoch 44 | Loss: 488.44058959353004\n",
            "[INFO] Epoch 45 | Loss: 527.9281112981142\n",
            "[INFO] Epoch 46 | Loss: 569.1266330026984\n",
            "[INFO] Epoch 47 | Loss: 612.0361547072822\n",
            "[INFO] Epoch 48 | Loss: 656.6566764118666\n",
            "[INFO] Epoch 49 | Loss: 702.9881981164507\n",
            "[INFO] Epoch 50 | Loss: 751.0307198210352\n",
            "[INFO] Epoch 51 | Loss: 800.7842415256189\n",
            "[INFO] Epoch 52 | Loss: 852.248763230203\n",
            "[INFO] Epoch 53 | Loss: 905.4242849347874\n",
            "[INFO] Epoch 54 | Loss: 960.3108066393714\n",
            "[INFO] Epoch 55 | Loss: 1016.9083283439559\n",
            "[INFO] Epoch 56 | Loss: 1075.21685004854\n",
            "[INFO] Epoch 57 | Loss: 1135.2363717531236\n",
            "[INFO] Epoch 58 | Loss: 1196.9668934577076\n",
            "[INFO] Epoch 59 | Loss: 1260.408415162292\n",
            "[INFO] Epoch 60 | Loss: 1325.560936866876\n",
            "[INFO] Epoch 61 | Loss: 1392.4244585714605\n",
            "[INFO] Epoch 62 | Loss: 1460.9989802760442\n",
            "[INFO] Epoch 63 | Loss: 1531.2845019806284\n",
            "[INFO] Epoch 64 | Loss: 1603.2810236852129\n",
            "[INFO] Epoch 65 | Loss: 1676.988545389797\n",
            "[INFO] Epoch 66 | Loss: 1752.407067094381\n",
            "[INFO] Epoch 67 | Loss: 1829.536588798965\n",
            "[INFO] Epoch 68 | Loss: 1908.3771105035498\n",
            "[INFO] Epoch 69 | Loss: 1988.928632208133\n",
            "[INFO] Epoch 70 | Loss: 2071.191153912717\n",
            "[INFO] Epoch 71 | Loss: 2155.1646756173013\n",
            "[INFO] Epoch 72 | Loss: 2240.8491973218856\n",
            "[INFO] Epoch 73 | Loss: 2328.24471902647\n",
            "[INFO] Epoch 74 | Loss: 2417.3512407310545\n",
            "[INFO] Epoch 75 | Loss: 2508.168762435639\n",
            "[INFO] Epoch 76 | Loss: 2600.6972841402226\n",
            "[INFO] Epoch 77 | Loss: 2694.9368058448067\n",
            "[INFO] Epoch 78 | Loss: 2790.8873275493906\n",
            "[INFO] Epoch 79 | Loss: 2888.548849253975\n",
            "[INFO] Epoch 80 | Loss: 2987.9213709585597\n",
            "[INFO] Epoch 81 | Loss: 3089.0048926631434\n",
            "[INFO] Epoch 82 | Loss: 3191.799414367727\n",
            "[INFO] Epoch 83 | Loss: 3296.3049360723107\n",
            "[INFO] Epoch 84 | Loss: 3402.521457776896\n",
            "[INFO] Epoch 85 | Loss: 3510.4489794814785\n",
            "[INFO] Epoch 86 | Loss: 3620.087501186064\n",
            "[INFO] Epoch 87 | Loss: 3731.437022890648\n",
            "[INFO] Epoch 88 | Loss: 3844.497544595232\n",
            "[INFO] Epoch 89 | Loss: 3959.2690662998166\n",
            "[INFO] Epoch 90 | Loss: 4075.7515880044007\n",
            "[INFO] Epoch 91 | Loss: 4193.945109708985\n",
            "[INFO] Epoch 92 | Loss: 4313.849631413569\n",
            "[INFO] Epoch 93 | Loss: 4435.4651531181535\n",
            "[INFO] Epoch 94 | Loss: 4558.791674822736\n",
            "[INFO] Epoch 95 | Loss: 4683.829196527321\n",
            "[INFO] Epoch 96 | Loss: 4810.577718231905\n",
            "[INFO] Epoch 97 | Loss: 4939.03723993649\n",
            "[INFO] Epoch 98 | Loss: 5069.207761641073\n",
            "[INFO] Epoch 99 | Loss: 5201.089283345658\n",
            "[INFO] Epoch 100 | Loss: 5334.6818050502425\n"
          ]
        }
      ]
    },
    {
      "cell_type": "code",
      "metadata": {
        "colab": {
          "base_uri": "https://localhost:8080/",
          "height": 423
        },
        "id": "K_0_zTUW1C-c",
        "outputId": "865026ac-e6d9-4f86-9954-62222e4b6be5"
      },
      "source": [
        "hists_df = pd.DataFrame(history)\n",
        "hists_df"
      ],
      "execution_count": null,
      "outputs": [
        {
          "output_type": "execute_result",
          "data": {
            "text/html": [
              "<div>\n",
              "<style scoped>\n",
              "    .dataframe tbody tr th:only-of-type {\n",
              "        vertical-align: middle;\n",
              "    }\n",
              "\n",
              "    .dataframe tbody tr th {\n",
              "        vertical-align: top;\n",
              "    }\n",
              "\n",
              "    .dataframe thead th {\n",
              "        text-align: right;\n",
              "    }\n",
              "</style>\n",
              "<table border=\"1\" class=\"dataframe\">\n",
              "  <thead>\n",
              "    <tr style=\"text-align: right;\">\n",
              "      <th></th>\n",
              "      <th>epoch</th>\n",
              "      <th>theta</th>\n",
              "      <th>model</th>\n",
              "      <th>loss</th>\n",
              "    </tr>\n",
              "  </thead>\n",
              "  <tbody>\n",
              "    <tr>\n",
              "      <th>0</th>\n",
              "      <td>-100</td>\n",
              "      <td>-1.00</td>\n",
              "      <td>[8.6, 7.6, 6.6, 5.6, 4.6, 3.5999999999999996, ...</td>\n",
              "      <td>12665.077464</td>\n",
              "    </tr>\n",
              "    <tr>\n",
              "      <th>1</th>\n",
              "      <td>-99</td>\n",
              "      <td>-0.99</td>\n",
              "      <td>[8.6, 7.609999999999999, 6.619999999999999, 5....</td>\n",
              "      <td>12458.180986</td>\n",
              "    </tr>\n",
              "    <tr>\n",
              "      <th>2</th>\n",
              "      <td>-98</td>\n",
              "      <td>-0.98</td>\n",
              "      <td>[8.6, 7.619999999999999, 6.64, 5.66, 4.68, 3.6...</td>\n",
              "      <td>12252.995508</td>\n",
              "    </tr>\n",
              "    <tr>\n",
              "      <th>3</th>\n",
              "      <td>-97</td>\n",
              "      <td>-0.97</td>\n",
              "      <td>[8.6, 7.63, 6.66, 5.6899999999999995, 4.72, 3....</td>\n",
              "      <td>12049.521029</td>\n",
              "    </tr>\n",
              "    <tr>\n",
              "      <th>4</th>\n",
              "      <td>-96</td>\n",
              "      <td>-0.96</td>\n",
              "      <td>[8.6, 7.64, 6.68, 5.72, 4.76, 3.8, 2.84, 1.88,...</td>\n",
              "      <td>11847.757551</td>\n",
              "    </tr>\n",
              "    <tr>\n",
              "      <th>...</th>\n",
              "      <td>...</td>\n",
              "      <td>...</td>\n",
              "      <td>...</td>\n",
              "      <td>...</td>\n",
              "    </tr>\n",
              "    <tr>\n",
              "      <th>196</th>\n",
              "      <td>96</td>\n",
              "      <td>0.96</td>\n",
              "      <td>[8.6, 9.559999999999999, 10.52, 11.48, 12.44, ...</td>\n",
              "      <td>4810.577718</td>\n",
              "    </tr>\n",
              "    <tr>\n",
              "      <th>197</th>\n",
              "      <td>97</td>\n",
              "      <td>0.97</td>\n",
              "      <td>[8.6, 9.57, 10.54, 11.51, 12.48, 13.45, 14.42,...</td>\n",
              "      <td>4939.037240</td>\n",
              "    </tr>\n",
              "    <tr>\n",
              "      <th>198</th>\n",
              "      <td>98</td>\n",
              "      <td>0.98</td>\n",
              "      <td>[8.6, 9.58, 10.559999999999999, 11.54, 12.52, ...</td>\n",
              "      <td>5069.207762</td>\n",
              "    </tr>\n",
              "    <tr>\n",
              "      <th>199</th>\n",
              "      <td>99</td>\n",
              "      <td>0.99</td>\n",
              "      <td>[8.6, 9.59, 10.58, 11.57, 12.559999999999999, ...</td>\n",
              "      <td>5201.089283</td>\n",
              "    </tr>\n",
              "    <tr>\n",
              "      <th>200</th>\n",
              "      <td>100</td>\n",
              "      <td>1.00</td>\n",
              "      <td>[8.6, 9.6, 10.6, 11.6, 12.6, 13.6, 14.6, 15.6,...</td>\n",
              "      <td>5334.681805</td>\n",
              "    </tr>\n",
              "  </tbody>\n",
              "</table>\n",
              "<p>201 rows × 4 columns</p>\n",
              "</div>"
            ],
            "text/plain": [
              "     epoch  ...          loss\n",
              "0     -100  ...  12665.077464\n",
              "1      -99  ...  12458.180986\n",
              "2      -98  ...  12252.995508\n",
              "3      -97  ...  12049.521029\n",
              "4      -96  ...  11847.757551\n",
              "..     ...  ...           ...\n",
              "196     96  ...   4810.577718\n",
              "197     97  ...   4939.037240\n",
              "198     98  ...   5069.207762\n",
              "199     99  ...   5201.089283\n",
              "200    100  ...   5334.681805\n",
              "\n",
              "[201 rows x 4 columns]"
            ]
          },
          "metadata": {},
          "execution_count": 33
        }
      ]
    },
    {
      "cell_type": "code",
      "metadata": {
        "colab": {
          "base_uri": "https://localhost:8080/",
          "height": 297
        },
        "id": "oDTYnA361Wb7",
        "outputId": "7156ba98-6939-4477-9a6d-3344d8faaae5"
      },
      "source": [
        "plt.plot(hists_df['theta'], hists_df['loss'])\n",
        "plt.xlabel('Theta')\n",
        "plt.ylabel('Loss')"
      ],
      "execution_count": null,
      "outputs": [
        {
          "output_type": "execute_result",
          "data": {
            "text/plain": [
              "Text(0, 0.5, 'Loss')"
            ]
          },
          "metadata": {},
          "execution_count": 35
        },
        {
          "output_type": "display_data",
          "data": {
            "image/png": "[encoded data removed]",
            "text/plain": [
              "<Figure size 432x288 with 1 Axes>"
            ]
          },
          "metadata": {
            "needs_background": "light"
          }
        }
      ]
    },
    {
      "cell_type": "code",
      "metadata": {
        "id": "Q_GEanoC15pT",
        "colab": {
          "base_uri": "https://localhost:8080/"
        },
        "outputId": "cf4175ab-631d-4479-cb4c-1379a237f067"
      },
      "source": [
        "### gets the index of the least error\n",
        "hists_df['loss'].idxmin()\n",
        "### retrieve the theta of the least error\n",
        "hists_vals = hists_df.iloc[hists_df['loss'].idxmin()]\n",
        "hists_vals['theta']"
      ],
      "execution_count": null,
      "outputs": [
        {
          "output_type": "execute_result",
          "data": {
            "text/plain": [
              "0.21"
            ]
          },
          "metadata": {},
          "execution_count": 36
        }
      ]
    },
    {
      "cell_type": "code",
      "metadata": {
        "colab": {
          "base_uri": "https://localhost:8080/",
          "height": 351
        },
        "id": "av2qZQu83j6j",
        "outputId": "edbb5424-fa22-4ee2-a218-5d8971ae235c"
      },
      "source": [
        "## Plotting\n",
        "model = hists_vals['theta']*X +b\n",
        "disp_hypothesis(X,y,hists_vals['model'], hists_vals['loss'], hists_vals['epoch'])"
      ],
      "execution_count": null,
      "outputs": [
        {
          "output_type": "display_data",
          "data": {
            "image/png": "[encoded data removed]",
            "text/plain": [
              "<Figure size 360x360 with 1 Axes>"
            ]
          },
          "metadata": {
            "needs_background": "light"
          }
        }
      ]
    },
    {
      "cell_type": "code",
      "metadata": {
        "colab": {
          "base_uri": "https://localhost:8080/",
          "height": 351
        },
        "id": "fYxCeIOp8T1r",
        "outputId": "e44692e5-e764-4c0f-b7fb-8329e8234c5e"
      },
      "source": [
        "epoch = 20\n",
        "vals = hists_df.loc[hists_df['epoch']==epoch]\n",
        "disp_hypothesis(X,y,vals['model'].iloc[0],\n",
        "                float(vals['loss']), \n",
        "                float(vals['epoch']))"
      ],
      "execution_count": null,
      "outputs": [
        {
          "output_type": "display_data",
          "data": {
            "image/png": "[encoded data removed]",
            "text/plain": [
              "<Figure size 360x360 with 1 Axes>"
            ]
          },
          "metadata": {
            "needs_background": "light"
          }
        }
      ]
    },
    {
      "cell_type": "markdown",
      "metadata": {
        "id": "YlXwkRrhMDdp"
      },
      "source": [
        "## 4.4 Multiple Linear Regression \n",
        "Multiple linear regression, as the name suggests uses more linear regressors in the algorithm. This can be used if there are more than one features to a dataset. The MLR can be formulated as:\n",
        "$$y = \\omega_0 + \\omega_1 x_1 + \\omega_2 x_2 + ... + \\omega_n x_n \\\\ _{\\text{(Eq. 4.5.1)}}$$\n",
        "Whereas $\\omega_0$ is the bias term while $\\omega_n$ are the weights or slopes of the features $x_n$. The simplest way to implement an MLR algorithm is looping over each feature and their dataset and compute the corresponding weights. In this course, we are going to implement vectorization in implementing MLR. So instead of hte linear equation in Eq. 4.4 we can re-form the equation to the matrix equation:\n",
        "$$y = \\omega X^T$$\n",
        "Whereas $\\omega$ is a vector that includes all the weights of the features $\\begin{bmatrix}\\omega_0 \\\\ \\omega_1 \\\\ \\omega_2 \\\\ \\vdots \\\\ \\omega_n\\end{bmatrix}$. While $X$ are the data of each feature vector $\\begin{bmatrix}1\\\\ x_1 \\\\ x_2 \\\\ \\vdots \\\\ x_n\\end{bmatrix}$.\n",
        "\n",
        "We will use the **Normal Equation** in solving MLR. The Normal equation uses the Least-Squares Cost function and is formulated as:\n",
        "$$\\theta = (X^TX)^{-1}X^Ty \\\\ _{\\text{(Eq. 4.5.2)}}$$\n",
        "Whereas $\\theta$ is the hypothesis or model to be created while $X$ represents the data vector and $y$ represents the labels or values corresponding to the data vector. The term $(X^TX)^{-1}$ is called the **pseudoinverse** or the **Moore-Penrose** matrix. The pseudoinverse of a matrix term of Eq. 4.5 assures that the data are normal or orthogonal. This helps check the property of Autocorrelation between the features of the data. The other properties of datasets that are safe for linear regression are Homoscedasticity, Non-multicollinearity, and Non-endogeneity. "
      ]
    },
    {
      "cell_type": "code",
      "metadata": {
        "id": "O3Kdk-a9MG1x"
      },
      "source": [
        "import numpy as np\n",
        "\n",
        "\n",
        "satisfaction = np.array([4, 2, 3, 5, 1, 5, 4, 5, 3])\n",
        "motivation = np.array([3, 2, 3, 3, 1, 4, 3, 4, 3])\n",
        "study_time = np.array([8, 8, 7, 10, 5, 9,10, 9, 7])\n",
        "\n",
        "grades =  np.array([100, 98, 89, 78, 62, 80, 88, 90, 75])\n",
        "bias = np.ones(grades.shape)"
      ],
      "execution_count": null,
      "outputs": []
    },
    {
      "cell_type": "code",
      "metadata": {
        "colab": {
          "base_uri": "https://localhost:8080/"
        },
        "id": "1_IY4SdreY0u",
        "outputId": "67515fc6-328d-41a4-df5e-219b302e972c"
      },
      "source": [
        "X = np.array([\n",
        "    satisfaction,\n",
        "    motivation,\n",
        "    study_time,\n",
        "    bias\n",
        "])\n",
        "y = grades.reshape(-1,1)\n",
        "y.shape"
      ],
      "execution_count": null,
      "outputs": [
        {
          "output_type": "execute_result",
          "data": {
            "text/plain": [
              "(9, 1)"
            ]
          },
          "metadata": {},
          "execution_count": 4
        }
      ]
    },
    {
      "cell_type": "code",
      "metadata": {
        "colab": {
          "base_uri": "https://localhost:8080/",
          "height": 249
        },
        "id": "qGwxX5ZMe-kd",
        "outputId": "93a60f98-e256-4a8e-a7b8-6361b6735d22"
      },
      "source": [
        "import matplotlib.pyplot as plt\n",
        "\n",
        "fig, ax = plt.subplots(nrows=1, ncols=3, figsize=(10,3.33))\n",
        "\n",
        "ax[0].scatter(X[0],y)\n",
        "ax[0].set_xlabel(\"Student Satisfaction\")\n",
        "ax[0].set_ylabel(\"Grades in %\")\n",
        "\n",
        "ax[1].scatter(X[1],y)\n",
        "ax[1].set_xlabel(\"Student Motivation\")\n",
        "ax[1].set_ylabel(\"Grades in %\")\n",
        "\n",
        "ax[2].scatter(X[2],y)\n",
        "ax[2].set_xlabel(\"Student Study Time (hrs)\")\n",
        "ax[2].set_ylabel(\"Grades in %\")\n",
        "\n",
        "plt.tight_layout()\n",
        "plt.show()"
      ],
      "execution_count": null,
      "outputs": [
        {
          "output_type": "display_data",
          "data": {
            "image/png": "[encoded data removed]",
            "text/plain": [
              "<Figure size 720x239.76 with 3 Axes>"
            ]
          },
          "metadata": {
            "needs_background": "light"
          }
        }
      ]
    },
    {
      "cell_type": "code",
      "metadata": {
        "id": "-LWiTD-WOUtE",
        "colab": {
          "base_uri": "https://localhost:8080/"
        },
        "outputId": "661bafde-fc45-4bae-c785-b0be9f12c616"
      },
      "source": [
        "X_train = X.T\n",
        "X_dot = X_train.T @ X_train\n",
        "pseudoinv = np.linalg.inv(X_dot)\n",
        "y_dot = X @ y\n",
        "theta = pseudoinv @ y_dot\n",
        "theta"
      ],
      "execution_count": null,
      "outputs": [
        {
          "output_type": "execute_result",
          "data": {
            "text/plain": [
              "array([[-11.35140562],\n",
              "       [ 12.46385542],\n",
              "       [  6.78714859],\n",
              "       [ 33.74698795]])"
            ]
          },
          "metadata": {},
          "execution_count": 6
        }
      ]
    },
    {
      "cell_type": "code",
      "metadata": {
        "id": "fC0syEBvng7n"
      },
      "source": [
        "w0 = theta[-1]\n",
        "w1 = theta[0]\n",
        "w2 = theta[1]\n",
        "w3 = theta[2]"
      ],
      "execution_count": null,
      "outputs": []
    },
    {
      "cell_type": "markdown",
      "metadata": {
        "id": "PtcGo4CpaCr6"
      },
      "source": [
        "$$y = \\omega_0 + \\omega_1 x_1 + \\omega_2 x_2 + \\omega_3 x_3$$\n",
        "$$y = 33.75 - 11.35x_1+12.46x_2+6.70x_4$$"
      ]
    },
    {
      "cell_type": "code",
      "metadata": {
        "colab": {
          "base_uri": "https://localhost:8080/",
          "height": 249
        },
        "id": "NKYjnYWOj8vO",
        "outputId": "872cde4a-5b82-4ace-d344-04d129738679"
      },
      "source": [
        "fig, ax = plt.subplots(nrows=1, ncols=3, figsize=(10,3.33))\n",
        "\n",
        "ax[0].scatter(X[0],y)\n",
        "y_1 = w1*X[0]+w0\n",
        "ax[0].plot(X[0], y_1)\n",
        "ax[0].set_xlabel(\"Student Satisfaction\")\n",
        "ax[0].set_ylabel(\"Grades in %\")\n",
        "\n",
        "ax[1].scatter(X[1],y)\n",
        "y_2 = w2*X[1]+w0\n",
        "ax[1].plot(X[1], y_2)\n",
        "ax[1].set_xlabel(\"Student Motivation\")\n",
        "ax[1].set_ylabel(\"Grades in %\")\n",
        "\n",
        "ax[2].scatter(X[2],y)\n",
        "y_3 = w3*X[2]+w0\n",
        "ax[2].plot(X[2], y_3)\n",
        "ax[2].set_xlabel(\"Student Study Time (hrs)\")\n",
        "ax[2].set_ylabel(\"Grades in %\")\n",
        "\n",
        "plt.tight_layout()\n",
        "plt.show()"
      ],
      "execution_count": null,
      "outputs": [
        {
          "output_type": "display_data",
          "data": {
            "image/png": "[encoded data removed]",
            "text/plain": [
              "<Figure size 720x239.76 with 3 Axes>"
            ]
          },
          "metadata": {
            "needs_background": "light"
          }
        }
      ]
    },
    {
      "cell_type": "code",
      "metadata": {
        "colab": {
          "base_uri": "https://localhost:8080/"
        },
        "id": "lW0fUSBZ6jXd",
        "outputId": "4b6876db-4970-4e30-b314-974cff3aa726"
      },
      "source": [
        "np.corrcoef(X[1],y.flatten(), bias=True)"
      ],
      "execution_count": null,
      "outputs": [
        {
          "output_type": "stream",
          "name": "stderr",
          "text": [
            "/usr/local/lib/python3.7/dist-packages/ipykernel_launcher.py:1: DeprecationWarning: bias and ddof have no effect and are deprecated\n",
            "  \"\"\"Entry point for launching an IPython kernel.\n"
          ]
        },
        {
          "output_type": "execute_result",
          "data": {
            "text/plain": [
              "array([[1.        , 0.36543536],\n",
              "       [0.36543536, 1.        ]])"
            ]
          },
          "metadata": {},
          "execution_count": 11
        }
      ]
    },
    {
      "cell_type": "code",
      "metadata": {
        "id": "TnDQd8_Cr5L3"
      },
      "source": [
        "def train(X,y):\n",
        "  X_train = X.T\n",
        "  pseudoinv = np.linalg.inv(X_train.T @ X_train)\n",
        "  y_dot = X @ y\n",
        "  theta = pseudoinv @ y_dot\n",
        "  return theta"
      ],
      "execution_count": null,
      "outputs": []
    },
    {
      "cell_type": "code",
      "metadata": {
        "id": "51zhGpfSm-e5"
      },
      "source": [
        "def predict(w, X):\n",
        "  preds = []\n",
        "  prod = lambda x, w: w*x \n",
        "  for i in range(X.shape[0]):\n",
        "    feature_sum = 0\n",
        "    for j in range(X.shape[1]):\n",
        "      feature_sum += prod(w[j], X[i][j])\n",
        "    preds.append(feature_sum)\n",
        "  return np.array(preds)  "
      ],
      "execution_count": null,
      "outputs": []
    },
    {
      "cell_type": "code",
      "metadata": {
        "id": "67qM2ymbOOYu"
      },
      "source": [
        "X_test = np.array([\n",
        "                   [4,4,11,1],\n",
        "                   [3,5,10,1],\n",
        "])"
      ],
      "execution_count": null,
      "outputs": []
    },
    {
      "cell_type": "code",
      "metadata": {
        "colab": {
          "base_uri": "https://localhost:8080/"
        },
        "id": "DxBLEqqePkGt",
        "outputId": "ab179560-bb5f-40e8-8511-933b98133d85"
      },
      "source": [
        "theta = train(X,y)\n",
        "predict(theta,X_test)"
      ],
      "execution_count": null,
      "outputs": [
        {
          "output_type": "execute_result",
          "data": {
            "text/plain": [
              "array([[112.85542169],\n",
              "       [129.88353414]])"
            ]
          },
          "metadata": {},
          "execution_count": 15
        }
      ]
    },
    {
      "cell_type": "code",
      "metadata": {
        "colab": {
          "base_uri": "https://localhost:8080/"
        },
        "id": "iM7y6pWjk8Qv",
        "outputId": "27b1b5a8-f372-485f-f96b-2d5c4f6c2034"
      },
      "source": [
        "from sklearn.linear_model import LinearRegression\n",
        "model = LinearRegression()\n",
        "model.fit(X.T,y)"
      ],
      "execution_count": null,
      "outputs": [
        {
          "output_type": "execute_result",
          "data": {
            "text/plain": [
              "LinearRegression(copy_X=True, fit_intercept=True, n_jobs=None, normalize=False)"
            ]
          },
          "metadata": {},
          "execution_count": 16
        }
      ]
    },
    {
      "cell_type": "code",
      "metadata": {
        "colab": {
          "base_uri": "https://localhost:8080/"
        },
        "id": "u97nT_1Rlk7Q",
        "outputId": "5dbb04ca-e17d-447c-abde-70a98684d7db"
      },
      "source": [
        "model.coef_"
      ],
      "execution_count": null,
      "outputs": [
        {
          "output_type": "execute_result",
          "data": {
            "text/plain": [
              "array([[-11.35140562,  12.46385542,   6.78714859,   0.        ]])"
            ]
          },
          "metadata": {},
          "execution_count": 17
        }
      ]
    },
    {
      "cell_type": "code",
      "metadata": {
        "colab": {
          "base_uri": "https://localhost:8080/"
        },
        "id": "A6OHEZRumRgI",
        "outputId": "6d08957a-2b69-43d1-a9bb-49abe85e19c9"
      },
      "source": [
        "model.intercept_"
      ],
      "execution_count": null,
      "outputs": [
        {
          "output_type": "execute_result",
          "data": {
            "text/plain": [
              "array([33.74698795])"
            ]
          },
          "metadata": {},
          "execution_count": 18
        }
      ]
    }
  ]
}