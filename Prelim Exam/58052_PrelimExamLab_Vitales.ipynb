{
  "nbformat": 4,
  "nbformat_minor": 0,
  "metadata": {
    "colab": {
      "provenance": [],
      "collapsed_sections": [],
      "authorship_tag": "ABX9TyPpaR0Qiz+jndHH/RqRB2BH",
      "include_colab_link": true
    },
    "kernelspec": {
      "name": "python3",
      "display_name": "Python 3"
    },
    "language_info": {
      "name": "python"
    }
  },
  "cells": [
    {
      "cell_type": "markdown",
      "metadata": {
        "id": "view-in-github",
        "colab_type": "text"
      },
      "source": [
        "<a href=\"https://colab.research.google.com/github/keithvtls/AIDA2-CpE---AIML/blob/main/Prelim%20Exam/58052_PrelimExamLab_Vitales.ipynb\" target=\"_parent\"><img src=\"https://colab.research.google.com/assets/colab-badge.svg\" alt=\"Open In Colab\"/></a>"
      ]
    },
    {
      "cell_type": "markdown",
      "source": [
        "# $_{\\text{ N.K. Vitales | 2022 | Prelim Exam-Lab}}$"
      ],
      "metadata": {
        "id": "LqKjXMHSSm_H"
      }
    },
    {
      "cell_type": "code",
      "execution_count": 2,
      "metadata": {
        "id": "JKOn-2tVSMVt"
      },
      "outputs": [],
      "source": [
        "import numpy as np"
      ]
    },
    {
      "cell_type": "markdown",
      "source": [
        "Create a function that simulates coin flips repeated n times. Make the function a generator with a parameter n for the number of coin flips. Use np.random.randint to simulate a coin flip."
      ],
      "metadata": {
        "id": "TlQVkKKksDw8"
      }
    },
    {
      "cell_type": "code",
      "source": [
        "def coinflip(n):\n",
        "    flips = []\n",
        "    for i in range(n):\n",
        "        toss = np.random.randint(2)\n",
        "        if toss == 0:\n",
        "            flips.append(\"head\")\n",
        "        else:\n",
        "            flips.append(\"tails\")\n",
        "\n",
        "    return print(f\"list of your flips {flips}\")"
      ],
      "metadata": {
        "id": "zntqg2BeS-G1"
      },
      "execution_count": null,
      "outputs": []
    },
    {
      "cell_type": "code",
      "source": [
        "coinflip(10)"
      ],
      "metadata": {
        "colab": {
          "base_uri": "https://localhost:8080/"
        },
        "id": "9SWx8DS-TAU4",
        "outputId": "9499767b-7768-4665-f2d9-64dfbbe4f426"
      },
      "execution_count": null,
      "outputs": [
        {
          "output_type": "stream",
          "name": "stdout",
          "text": [
            "list of your flips ['tails', 'tails', 'head', 'head', 'tails', 'head', 'head', 'head', 'tails', 'tails']\n"
          ]
        }
      ]
    },
    {
      "cell_type": "markdown",
      "source": [
        "Identify whether Matrix A is linearly dependent or dependent. Provide necessary format or mathematical proof for your claims.\n",
        "\n",
        "\\begin{align}\n",
        "A = \\frac{1 \\ }{\\sqrt2} e^\\theta{^t} \\begin{pmatrix}\n",
        "1 & -2 & -1\\\\\n",
        "-0.5 & -1 & 0.5\\\\\n",
        "1 & -2 & -1 \n",
        "\\end{pmatrix}\n",
        "\\end{align}\n"
      ],
      "metadata": {
        "id": "oh_E1-nCsQCn"
      }
    },
    {
      "cell_type": "markdown",
      "source": [
        "Identify whether the two vectors A and B are similar, opposite, or orthogonal using the cosine similarity. You must provide the following in your solution:\n",
        "\n",
        "\n",
        "5) The inner product of A and B;\n",
        "\n",
        "6) The norm of A;\n",
        "\n",
        "7) The norm of B;\n",
        "\n",
        "8) The angle between A and B and represented by theta."
      ],
      "metadata": {
        "id": "HqDKCAht7pUK"
      }
    },
    {
      "cell_type": "code",
      "source": [
        "matrix = np.array(\n",
        "    [\n",
        "        [1, -2 ,-1],\n",
        "        [-0.5, -1, 0.5],\n",
        "        [1, -2, -1,]\n",
        "    ])\n",
        "matrix"
      ],
      "metadata": {
        "colab": {
          "base_uri": "https://localhost:8080/"
        },
        "id": "FABjiqFKsWiE",
        "outputId": "b38b51de-c37f-41b9-a35a-abe42d27c915"
      },
      "execution_count": 4,
      "outputs": [
        {
          "output_type": "execute_result",
          "data": {
            "text/plain": [
              "array([[ 1. , -2. , -1. ],\n",
              "       [-0.5, -1. ,  0.5],\n",
              "       [ 1. , -2. , -1. ]])"
            ]
          },
          "metadata": {},
          "execution_count": 4
        }
      ]
    },
    {
      "cell_type": "code",
      "source": [
        "print(np.linalg.det(matrix))\n",
        "\n",
        "for i in range(matrix.shape[0]):\n",
        "    for j in range(matrix.shape[0]):\n",
        "        if i != j:\n",
        "            inner_product = np.inner(\n",
        "                matrix[:,i],\n",
        "                matrix[:,j]\n",
        "            )\n",
        "            norm_i = np.linalg.norm(matrix[:,i])\n",
        "            norm_j = np.linalg.norm(matrix[:,j])\n",
        "\n",
        "            print('I: ', matrix[:,i])\n",
        "            print('J: ', matrix[:,j])\n",
        "            print('Prod: ', inner_product)\n",
        "            print('Norm i: ', norm_i)\n",
        "            print('Norm j: ', norm_j)\n",
        "            if np.abs(inner_product - norm_j * norm_i) < 1E-5:\n",
        "                print('Dependent')\n",
        "            else:\n",
        "                print('Independent')"
      ],
      "metadata": {
        "colab": {
          "base_uri": "https://localhost:8080/"
        },
        "id": "bJvh4Zr5sZJJ",
        "outputId": "c30a55e7-decf-4f56-ea78-7f6140f85010"
      },
      "execution_count": 5,
      "outputs": [
        {
          "output_type": "stream",
          "name": "stdout",
          "text": [
            "0.0\n",
            "I:  [ 1.  -0.5  1. ]\n",
            "J:  [-2. -1. -2.]\n",
            "Prod:  -3.5\n",
            "Norm i:  1.5\n",
            "Norm j:  3.0\n",
            "Independent\n",
            "I:  [ 1.  -0.5  1. ]\n",
            "J:  [-1.   0.5 -1. ]\n",
            "Prod:  -2.25\n",
            "Norm i:  1.5\n",
            "Norm j:  1.5\n",
            "Independent\n",
            "I:  [-2. -1. -2.]\n",
            "J:  [ 1.  -0.5  1. ]\n",
            "Prod:  -3.5\n",
            "Norm i:  3.0\n",
            "Norm j:  1.5\n",
            "Independent\n",
            "I:  [-2. -1. -2.]\n",
            "J:  [-1.   0.5 -1. ]\n",
            "Prod:  3.5\n",
            "Norm i:  3.0\n",
            "Norm j:  1.5\n",
            "Independent\n",
            "I:  [-1.   0.5 -1. ]\n",
            "J:  [ 1.  -0.5  1. ]\n",
            "Prod:  -2.25\n",
            "Norm i:  1.5\n",
            "Norm j:  1.5\n",
            "Independent\n",
            "I:  [-1.   0.5 -1. ]\n",
            "J:  [-2. -1. -2.]\n",
            "Prod:  3.5\n",
            "Norm i:  1.5\n",
            "Norm j:  3.0\n",
            "Independent\n"
          ]
        }
      ]
    },
    {
      "cell_type": "markdown",
      "source": [
        "Identify whether the two vectors A and B are similar, opposite, or orthogonal using the cosine similarity. You must provide the following in your solution:\n",
        "\n",
        "1) The inner product of A and B;\n",
        "\n",
        "2) The norm of A;\n",
        "\n",
        "3) The norm of B;\n",
        "\n",
        "4) The angle between A and B and represented by theta.\n",
        "\n",
        "\\begin{align}\n",
        "a = \\begin{pmatrix}\n",
        "13, & 20\n",
        "\\end{pmatrix}\n",
        "\\end{align}\n",
        "\n",
        "\n",
        "\\begin{align}\n",
        "b = \\begin{pmatrix}\n",
        "-2, & 17\n",
        "\\end{pmatrix}\n",
        "\\end{align}"
      ],
      "metadata": {
        "id": "cGo5djbOsn42"
      }
    },
    {
      "cell_type": "code",
      "source": [
        "vect_a = np.array([13,20])\n",
        "vect_b = np.array([-2,17])"
      ],
      "metadata": {
        "id": "Cb-e0N4L8-O6"
      },
      "execution_count": 6,
      "outputs": []
    },
    {
      "cell_type": "code",
      "source": [
        "#5) Inner product of A and B\n",
        "vect_inner = np.inner(vect_a,vect_b)\n",
        "vect_inner"
      ],
      "metadata": {
        "colab": {
          "base_uri": "https://localhost:8080/"
        },
        "id": "SfRxpUn37tHM",
        "outputId": "0b9d81f1-9f22-4e49-9069-f9ea3faa8371"
      },
      "execution_count": 7,
      "outputs": [
        {
          "output_type": "execute_result",
          "data": {
            "text/plain": [
              "314"
            ]
          },
          "metadata": {},
          "execution_count": 7
        }
      ]
    },
    {
      "cell_type": "code",
      "source": [
        "#6) Norm of A\n",
        "a_norm = np.linalg.norm(vect_a)\n",
        "print(\"{:.2f}\".format(a_norm))"
      ],
      "metadata": {
        "colab": {
          "base_uri": "https://localhost:8080/"
        },
        "id": "J-oSaqRm7xkk",
        "outputId": "55e09cbc-1dd8-4c35-d56c-a5c7f016f16d"
      },
      "execution_count": 8,
      "outputs": [
        {
          "output_type": "stream",
          "name": "stdout",
          "text": [
            "23.85\n"
          ]
        }
      ]
    },
    {
      "cell_type": "code",
      "source": [
        "#7) Norm of B\n",
        "b_norm = np.linalg.norm(vect_b)\n",
        "print(\"{:.2f}\".format(b_norm))"
      ],
      "metadata": {
        "colab": {
          "base_uri": "https://localhost:8080/"
        },
        "id": "Jvveo8ly7y-w",
        "outputId": "42a11fce-0593-4763-c8b7-4eafc19ea769"
      },
      "execution_count": 9,
      "outputs": [
        {
          "output_type": "stream",
          "name": "stdout",
          "text": [
            "17.12\n"
          ]
        }
      ]
    },
    {
      "cell_type": "code",
      "source": [
        "#8) Angle between A and B represented by theta\n",
        "\n",
        "unit_vect_1 = vect_a / a_norm\n",
        "unit_vect_2 = vect_b / b_norm\n",
        "dot_prod = np.dot(unit_vect_1, unit_vect_2)\n",
        "angle = np.arccos(dot_prod)\n",
        "print(\"{:.2f}\".format(angle))"
      ],
      "metadata": {
        "colab": {
          "base_uri": "https://localhost:8080/"
        },
        "id": "EDXQkKiH74yL",
        "outputId": "134079d9-c8ee-4e43-96e4-737da3a2e001"
      },
      "execution_count": 10,
      "outputs": [
        {
          "output_type": "stream",
          "name": "stdout",
          "text": [
            "0.69\n"
          ]
        }
      ]
    },
    {
      "cell_type": "markdown",
      "source": [
        "Identify whether the two vectors A and B are similar, opposite, or orthogonal using the cosine similarity. You must provide the following in your solution:\n",
        "\n",
        "\n",
        "5) The inner product of A and B;\n",
        "\n",
        "6) The norm of A;\n",
        "\n",
        "7) The norm of B;\n",
        "\n",
        "8) The angle between A and B and represented by theta.\n",
        "\n",
        "\n",
        "\\begin{align}\n",
        "a = \\begin{pmatrix}\n",
        "9, & 31\n",
        "\\end{pmatrix}\n",
        "\\end{align}\n",
        "\n",
        "\n",
        "\\begin{align}\n",
        "b = \\begin{pmatrix}\n",
        "17, & 7\n",
        "\\end{pmatrix}\n",
        "\\end{align}\n",
        "\n"
      ],
      "metadata": {
        "id": "cJc5-BIS9BH-"
      }
    },
    {
      "cell_type": "code",
      "source": [
        "vect_a = np.array([9,31])\n",
        "vect_b = np.array([17,7])"
      ],
      "metadata": {
        "id": "SvJYBGgK7pyg"
      },
      "execution_count": 11,
      "outputs": []
    },
    {
      "cell_type": "code",
      "source": [
        "vect_inner = np.inner(vect_a,vect_b)\n",
        "vect_inner"
      ],
      "metadata": {
        "colab": {
          "base_uri": "https://localhost:8080/"
        },
        "id": "WLc0S3x_9C-a",
        "outputId": "90407510-5577-4618-bc2e-34c04a37ada2"
      },
      "execution_count": 12,
      "outputs": [
        {
          "output_type": "execute_result",
          "data": {
            "text/plain": [
              "370"
            ]
          },
          "metadata": {},
          "execution_count": 12
        }
      ]
    },
    {
      "cell_type": "code",
      "source": [
        "a_norm = np.linalg.norm(vect_a)\n",
        "print(\"{:.2f}\".format(a_norm))"
      ],
      "metadata": {
        "colab": {
          "base_uri": "https://localhost:8080/"
        },
        "id": "F3yfVoY_9ESz",
        "outputId": "b25339d2-a689-4858-f038-a2ead93fad70"
      },
      "execution_count": 13,
      "outputs": [
        {
          "output_type": "stream",
          "name": "stdout",
          "text": [
            "32.28\n"
          ]
        }
      ]
    },
    {
      "cell_type": "code",
      "source": [
        "b_norm = np.linalg.norm(vect_b)\n",
        "print(\"{:.2f}\".format(b_norm))"
      ],
      "metadata": {
        "id": "vbi2KZ1w9FiL",
        "outputId": "35928325-b679-4e28-81c4-3a653797094a",
        "colab": {
          "base_uri": "https://localhost:8080/"
        }
      },
      "execution_count": 14,
      "outputs": [
        {
          "output_type": "stream",
          "name": "stdout",
          "text": [
            "18.38\n"
          ]
        }
      ]
    },
    {
      "cell_type": "code",
      "source": [
        "#4) Angle between A and B represented by theta\n",
        "\n",
        "unit_vect_1 = vect_a / a_norm\n",
        "unit_vect_2 = vect_b / b_norm\n",
        "dot_prod = np.dot(unit_vect_1, unit_vect_2)\n",
        "angle = np.arccos(dot_prod)\n",
        "print(\"{:.2f}\".format(angle))"
      ],
      "metadata": {
        "id": "YIYb_O8S9G_4",
        "outputId": "ce190ec3-6319-4aac-f47e-39c20452c31d",
        "colab": {
          "base_uri": "https://localhost:8080/"
        }
      },
      "execution_count": 15,
      "outputs": [
        {
          "output_type": "stream",
          "name": "stdout",
          "text": [
            "0.90\n"
          ]
        }
      ]
    }
  ]
}